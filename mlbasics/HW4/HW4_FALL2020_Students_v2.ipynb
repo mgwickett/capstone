{
 "cells": [
  {
   "cell_type": "markdown",
   "metadata": {
    "ExecuteTime": {
     "end_time": "2019-06-20T17:17:25.168179Z",
     "start_time": "2019-06-20T17:17:24.986130Z"
    },
    "id": "Hjp__3bRh42K",
    "run_control": {
     "frozen": false,
     "read_only": false
    }
   },
   "source": [
    "## Fall 2020 CS 4641\\7641 A: Machine Learning Homework 4\n",
    "\n",
    "## Instructor: Dr. Mahdi Roozbahani\n",
    "\n",
    "## Deadline: November 18th, Wednesday, AOE\n",
    "\n",
    "* No unapproved extension of the deadline is allowed. Late submission will lead to 0 credit. \n",
    "\n",
    "* Discussion is encouraged on Piazza as part of the Q/A. However, all assignments should be done individually."
   ]
  },
  {
   "cell_type": "markdown",
   "metadata": {
    "id": "wSJJRXYL2yOY"
   },
   "source": [
    "## Instructions for the assignment\n",
    "\n",
    "- In this assignment, we have programming and writing questions.\n",
    "- To switch between cell for code and for markdown, see the menu -> Cell -> Cell Type\n",
    "- You could directly type the Latex equations in the markdown cell.\n",
    "- Typing with Latex\\markdown is required for all the written questions. Handwritten answers would not be accepted. \n",
    "- If a question requires a picture, you could use this syntax $\"<img src=\"\" style=\"width: 300px;\"/>\"$ to include them within your ipython notebook.\n",
    "- Questions marked with <span style=\"color:blue\">**[P]**</span> are programming only and should be submitted to the autograder. Questions marked with <span style=\"color:green\">**[W]**</span> may required that you code a small function or generate plots, but should **NOT** be submitted to the autograder. It should be submitted on the writing portion of the assignment on gradescope\n",
    "- The outline of the assignment is as follows:\n",
    "    * Q1 [55+(10 bonus for undergrads)] > Neural Network <span style=\"color:green\">**[W]** </span>| <span style=\"color:blue\">**[P]**</span>\n",
    "    * Q2 [15 pts(bonus for all)] > Image Classification based on Convolutional Neural Network </span>| <span style=\"color:green\">**[W]**</span>\n",
    "    * Q3 [40 pts] > Random Forest <span style=\"color:blue\">**[P]** 3.1, 3.2 </span> | <span style=\"color:green\">**[W]**</span> 3.3\n",
    "    * Q4 [30 pts] > SVM <span style=\"color:green\">**[W]** </span>\n",
    "    "
   ]
  },
  {
   "cell_type": "markdown",
   "metadata": {
    "id": "nN-9x-Qm2yOY"
   },
   "source": [
    "## Using the autograder\n",
    "\n",
    "- You will find two assignments on Gradescope that correspond to HW4: \"HW4 - Programming\" and \"HW4 - Non-programming\" (and \"HW4 - Bonus Programming\" if you are in CS4641).\n",
    "- You will submit your code for the autograder on \"HW4 - Programming\" in the following format:\n",
    "    \n",
    "    * random_forest.py\n",
    "    * neural_network.py\n",
    "- You will submit your code for the autograder on \"HW4 - Bonus-Programming\" in the following format:\n",
    "    \n",
    "    * neural_network.py\n",
    "\n",
    "- All you will have to do is to copy your implementations of the classes \"dlnet\" and \"RandomForest\" onto the respective files. We provided you different .py files and we added libraries in those files please DO NOT remove those lines and add your code after those lines. Note that these are the only allowed libraries that you can use for the homework.\n",
    "\n",
    "- You are allowed to make as many submissions until the deadline as you like. Additionally, note that the autograder tests each function separately, therefore it can serve as a useful tool to help you debug your code if you are not sure of what part of your implementation might have an issue.\n",
    "\n",
    "- **For the \"HW4 - Non-programming\" part, you will download your jupyter notbook as HTML, print it as a PDF from your browser and submit it on Gradescope. To download the notebook as html, click on \"File\" on the top left corner of this page and select \"Download as > HTML\". The non-programming part corresponds to Q1, Q2, Q3.3, Q4**"
   ]
  },
  {
   "cell_type": "markdown",
   "metadata": {
    "id": "7U0WVt07tGRv"
   },
   "source": [
    "## Environment Setup"
   ]
  },
  {
   "cell_type": "code",
   "execution_count": 1,
   "metadata": {
    "id": "o0Ui6T2as9iI"
   },
   "outputs": [],
   "source": [
    "import numpy as np \n",
    "import matplotlib.pyplot as plt\n",
    "from sklearn.datasets import load_breast_cancer\n",
    "from sklearn.preprocessing import MinMaxScaler\n",
    "\n",
    "from sklearn.model_selection import train_test_split\n",
    "from sklearn.metrics import classification_report\n",
    "from sklearn.metrics import plot_confusion_matrix\n",
    "\n",
    "from collections import Counter\n",
    "from scipy import stats\n",
    "from math import log2, sqrt\n",
    "import pandas as pd\n",
    "import time\n",
    "from sklearn.model_selection import train_test_split\n",
    "from sklearn.preprocessing import LabelEncoder\n",
    "from sklearn.tree import DecisionTreeClassifier\n",
    "\n",
    "from sklearn.datasets import make_moons\n",
    "from sklearn.metrics import accuracy_score\n",
    "from sklearn import svm"
   ]
  },
  {
   "cell_type": "markdown",
   "metadata": {
    "id": "Mq4QZ4su2yOd"
   },
   "source": [
    "## 1. Two Layer Neural Network [65pts] <span style=\"color:blue\">**[P]**</span>"
   ]
  },
  {
   "cell_type": "markdown",
   "metadata": {
    "id": "HdkkppO-pNEn"
   },
   "source": [
    "### Perceptron\n",
    "\n",
    "![Perceptron](https://drive.google.com/uc?id=1k_ITywpGxTqXd12fYZGstjj6A5H_Lk-w)\n",
    "<br><br>\n",
    "\n",
    "A single layer perceptron can be thought of as a linear hyperplane as in logistic regression followed by a non-linear activation function. $$u_{i} = \\sum \\limits_{j=1}^{d} \\theta_{ij}x_{j}+b_{i}$$  $$o_{i} = \\phi \\left( \\sum \\limits_{j=1}^{d} \\theta_{ij}x_{j}+b_{i} \\right) = \\phi(\\theta_{i}^{T}x+b_{i})$$ where $x$ is a d-dimensional vector i.e. $x \\in R^{d}$. It is one datapoint with $d$ features. $\\theta_{i} \\in R^{d}$ is the weight vector for the $i^{th}$ hidden unit, $b_{i} \\in R$ is the bias element for the $i^{th}$ hidden unit and $\\phi(.)$ is a non-linear activation function that has been described below. $u_{i}$ is a linear combination of the features in $x$ weighted by $\\theta_{i}$ whereas $o_{i}$ is the $i^{th}$ output unit from the activation layer. \n",
    "\n",
    "\n",
    "## Fully connected Layer\n",
    "Typically, a modern neural network contains millions of perceptrons as the one shown in the previous image. Perceptrons interact in different configurations such as cascaded or parallel. In this part, we describe a fully connected layer configuration in a neural network which comprises multiple parallel perceptrons forming one layer. \n",
    "\n",
    "We extend the previous notation to describe a fully connected layer. Each layer in a fully connected network has a number of input/hidden/output units cascaded in parallel. Let us a define a single layer of the neural net as follows: <br>\n",
    "$m$ demotes the number of hidden units in a single layer $l$ whereas $n$ denotes the number of units in the previous layer $l-1$.\n",
    "$$u^{[l]}=\\theta^{[l]}o^{[l-1]}+b^{[l]}$$ where $u^{[l]} \\in R^{m}$ is a m-dimensional vector pertaining to the hidden units of the $l^{th}$ layer of the neural network after applying linear operations. Similarly, $o^{[l-1]}$ is the n-dimensional output vector corresponding to the hidden units of the $(l-1)^{th}$ activation layer. $\\theta^{[l]} \\in R^{m \\times n}$ is the weight matrix of the $l^{th}$ layer where each row of $\\theta^{[l]}$ is analogous to $\\theta_{i}$ described in the previous section i.e. each row corresponds to one hidden unit of the $l^{th}$ layer. $b^{[l]} \\in R^{m}$ is the bias vector of the layer where each element of b pertains to one hidden unit of the $l^{th}$ layer. This is followed by element wise non-linear activation function $o^{[l]} = \\phi(u^{[l]})$.\n",
    "The whole operation can be summarized as,\n",
    "$$o^{[l]} = \\phi(\\theta^{[l]}o^{[l-1]}+b^{[l]}) $$\n",
    "where $o^{[l-1]}$ is the output of the previous layer. \n",
    "\n",
    "\n",
    "\n",
    "\n",
    "\n",
    "## Activation Function \n",
    "There are many activation functions in the literature but for this question we are going to use Relu, Sigmoid and Tanh only. \n",
    "### Relu\n",
    "The rectified linear unit (Relu) is one of the most commonly used activation functions in deep learning models. The mathematical form is $$o = \\phi(u) = max(0,u)$$<br> The derivative of relu function is given as $o' = \\phi'(u) = \\begin{cases}\n",
    "&0& u \\leq 0 \\\\\n",
    "&1& u > 0\n",
    "\\end{cases} $  \n",
    "\n",
    "\n",
    "![Relu](https://drive.google.com/uc?id=1qFNOnhB3B0wgt56bMsc-WI6cX0UWJAQX)\n",
    "\n",
    "\n",
    "\n",
    "\n",
    "### Sigmoid\n",
    "The sigmoid function is another non-linear function with S-shaped curve. This function is useful in the case of binary classification as its output is between 0 and 1. The mathematical form of the function is $$o = \\phi(u)=\\frac{1}{1+e^{-u}}$$<br> The derivation of the sigmoid function has a nice form and is given as $$o' = \\phi'(u) = \\frac{1}{1+e^{-u}} \\left(1-\\frac{1}{1+e^{-u}}\\right) = \\phi(u)(1-\\phi(u))$$\n",
    "<br><br>\n",
    "\n",
    "![Sigmoid](https://drive.google.com/uc?id=19UPS1IfcVNqH_PMAPg6ymAAVqGo9zHle)\n",
    "\n",
    "### Tanh\n",
    "Tanh also known as hyperbolic tangent is like a shifted version of sigmoid activation function with its range going from -1 to 1. Tanh almost always proves to be better than the sigmoid function since the mean of the activations are closer to zero. Tanh has an effect of centering data that makes learning for the next layer a bit easier. The mathematical form of tanh is given as $$o = \\phi(u) = tanh(u) = \\frac{e^{u} - e^{-u}}{e^{u} + e^{-u}}$$ The derivative of tanh is given as $$o' = \\phi'(u) = 1 - {\\left(\\frac{e^{u} - e^{-u}}{e^{u} + e^{-u}}\\right)}^{2} = 1 - o^{2}$$\n",
    "\n",
    "![Tanh](https://drive.google.com/uc?id=1FD83cZIsI1gY6g0dDKyaaHFrCnThl9za)\n",
    "\n",
    "\n",
    "## Cross Entropy Loss\n",
    "An essential piece in training a neural network is the loss function. The whole purpose of gradient descent algorithm is to find some network parameters that minimizes the loss function. In this exercise, we minimize Cross Entropy (CE) loss that represents on an intuitive level the distance between true data distribution and estimated distribution by neural network. So during training of the neural network, we will be looking for network parameters that minimizes the distance between true and estimated distribution. The mathematical form of the CE loss is given by \n",
    "$$CE(p,q) = -\\sum\\limits_{i} p(x_{i})\\log q(x_{i}) $$\n",
    "where $p(x)$ is the true distribution and $q(x)$ is the estimated distribution. \n",
    "### Implementation details\n",
    "For binary classification problems as in this exercise, we have probability distribution of a label $y_{i}$ given by\n",
    "\\begin{equation}\n",
    "y_{i}= \n",
    "\\begin{cases}\n",
    "&1& \\text{ with probability } p(x_{i}) \\\\\n",
    "&0& \\text{ with probability } 1- p(x_{i})\n",
    "\\end{cases}\n",
    "\\end{equation}\n",
    "A frequentist estimate of $p(x_{i})$ can be written as $$p(x_{i})= \\sum\\limits_{i=1}^{N} \\frac{y_{i}}{N}$$ Therefore, the cross entropy for binary estimation can be written as \n",
    "$$CE(y_{i},\\hat{y_{i}}) = -\\frac{1}{N}\\sum\\limits_{i=1}^{N}\\left(y_{i} \\log (\\hat{y_{i}}) +(1-y_{i}) \\log (1-\\hat{y_{i}})\\right)$$\n",
    "where $y_{i} \\in \\{ 0,1\\}$ is the true label and $\\hat{y_{i}} \\in [0,1]$ is the estimated label.  \n",
    "\n",
    "## Forward Propagation\n",
    "We start by initializing the weights of the fully connected layer using Xavier initialization [Xavier initialization](http://proceedings.mlr.press/v9/glorot10a/glorot10a.pdf). During training, we pass all the data points through the network layer by layer using forward propagation. The main equations for forward prop have been described below. \n",
    "\\begin{eqnarray}\n",
    "u^{[0]} &=& x\\\\\n",
    "u^{[1]}&=& \\theta^{[1]}u^{[0]}+b^{[1]} \\\\\n",
    "o^{[1]}&=& Relu(u^{[1]}) \\\\\n",
    "u^{[2]}&=& \\theta^{[2]}o^{[1]}+b^{[2]} \\\\\n",
    "\\hat{y}=o^{[2]}&=& Sigmoid(u^{[2]}) \\\\\n",
    "\\end{eqnarray}\n",
    "\n",
    "\n",
    "Then we get the output and compute the loss \n",
    "$$l = -\\frac{1}{N}\\sum\\limits_{i=1}^{N}\\left(y_{i} \\log (\\hat{y_{i}}) +(1-y_{i}) \\log (1-\\hat{y_{i}})\\right)$$\n",
    "\n",
    "\n",
    "## Backward propagation\n",
    "After the forward pass, we do back propagation to update the weights and biases in the direction of the negative gradient of the loss function. So, we update the weights and biases using the following formulas\n",
    "\\begin{equation}\n",
    "\\theta^{[2]} := \\theta^{[2]} - lr \\times \\frac{\\partial l}{\\partial \\theta^{[2]}} \\\\\n",
    "b^{[2]} := b^{[2]} - lr \\times \\frac{\\partial l}{\\partial b^{[2]}} \\\\\n",
    "\\theta^{[1]} := \\theta^{[1]} - lr \\times \\frac{\\partial l}{\\partial \\theta^{[1]}} \\\\\n",
    "b^{[1]} := b^{[1]} - lr \\times \\frac{\\partial l}{\\partial b^{[1]}}\n",
    "\\end{equation}\n",
    "where $lr$ is the learning rate. It decides the step size we want to take in the direction of the negative gradient. \n",
    "\n",
    "\n",
    "\n",
    "To compute the terms $\\frac{\\partial l}{\\partial \\theta^{[i]}}$ and $ \\frac{\\partial l}{\\partial b^{[i]}}$ we use chain rule for differentiation as follows:\n",
    "\n",
    "\\begin{eqnarray}\n",
    "\\frac{\\partial l}{\\partial \\theta^{[2]}}&=&\\frac{\\partial l}{\\partial o^{[2]}}\\frac{\\partial o^{[2]}}{\\partial u^{[2]}}\\frac{\\partial u^{[2]}}{\\partial \\theta^{[2]}} \\\\\n",
    "\\frac{\\partial l}{\\partial b^{[2]}}&=&\\frac{\\partial l}{\\partial o^{[2]}}\\frac{\\partial o^{[2]}}{\\partial u^{[2]}}\\frac{\\partial u^{[2]}}{\\partial b^{[2]}}\n",
    "\\end{eqnarray}\n",
    "\n",
    "So, $\\frac{\\partial l}{\\partial o^{[2]}}$ is the differentiation of the cross entropy loss function at point $o^{[2]}$ <br><br> $\\frac{\\partial o^{[2]}}{\\partial u^{[2]}}$ is the differentiation of the Sigmoid function at point $u^{[2]}$ <br><br> $\\frac{\\partial u^{[2]}}{\\partial \\theta^{[2]}}$ is equal to $o^{[1]}$ <br><br> $\\frac{\\partial u^{[2]}}{\\partial b^{[2]}}$ is equal to $1$. <br><br>\n",
    "\n",
    "To compute $\\frac{\\partial l}{\\partial \\theta^{[2]}}$, we need $o^{[2]}, u^{[2]} \\& o^{[1]}$ which are calculated during forward propagation. So we need to store these values in cache variables during forward propagation to be able to access them during backward propagation. Similarly for calculating other partial derivatives, we store the values we'll be needing for chain rule in cache. These values are obtained from the forward propagation and used in backward propagation. The cache is implemented as a dictionary here where the keys are the variable names and the values are the variables values.  <br><br>Also, the functional form of the CE differentiation and Sigmoid differentiation are given by <br><br>\n",
    "\\begin{eqnarray}\n",
    "\\frac{\\partial l}{\\partial o^{[2]}} &=& \\frac{-1}{N}\\left(\\frac{y}{o^{[2]}}-\\frac{1-y}{1-o^{[2]}}\\right) \\\\\n",
    "\\frac{\\partial o^{[2]}}{\\partial u^{[2]}} &=& \\frac{1}{1+e^{-u^{[2]}}} \\left(1- \\frac{1}{1+e^{-u^{[2]}}} \\right) &=& o^{[2]}(1-o^{[2]})  \\\\\n",
    "\\frac{\\partial u^{[2]}}{\\partial \\theta^{[2]}} &=& o^{[1]} \\\\\n",
    "\\frac{\\partial u^{[2]}}{\\partial b^{[2]}} &=& 1\n",
    "\\end{eqnarray}\n",
    "\n",
    "This completes the differentiation of loss function w.r.t to parameters in the second layer. We now move on to the first layer, the equations for which are given as follows: <br><br> \n",
    "\\begin{eqnarray}\n",
    "\\frac{\\partial l}{\\partial \\theta^{[1]}}&=&\\frac{\\partial l}{\\partial o^{[2]}}\\frac{\\partial o^{[2]}}{\\partial u^{[2]}}\\frac{\\partial u^{[2]}}{\\partial o^{[1]}} \\frac{\\partial o^{[1]}}{\\partial u^{[1]}} \\frac{\\partial u^{[1]}}{\\partial \\theta^{[1]}}  \\\\\n",
    "\\frac{\\partial l}{\\partial b^{[1]}}&=&\\frac{\\partial l}{\\partial o^{[2]}}\\frac{\\partial o^{[2]}}{\\partial u^{[2]}}\\frac{\\partial u^{[2]}}{\\partial o^{[1]}} \\frac{\\partial o^{[1]}}{\\partial u^{[1]}} \\frac{\\partial u^{[1]}}{\\partial b^{[1]}}\n",
    "\\end{eqnarray}\n",
    "\n",
    "Where \n",
    "\\begin{eqnarray}\n",
    "\\frac{\\partial u^{[2]}}{\\partial o^{[1]}} &=& \\theta^{[2]} \\\\\n",
    "\\frac{\\partial o^{[1]}}{\\partial u^{[1]}} &=&  \n",
    "\\begin{cases}\n",
    "&0& \\text{ if } u^{[1]} \\leq 0 \\\\\n",
    "&1& \\text{ if } u^{[1]} > 0 \n",
    "\\end{cases}\\\\\n",
    "\\frac{\\partial u^{[1]}}{\\partial \\theta^{[1]}} &=& x\\\\\n",
    "\\frac{\\partial u^{[1]}}{\\partial b^{[1]}} &=& 1\n",
    "\\end{eqnarray}\n",
    "\n",
    "Note that $\\frac{\\partial o^{[1]}}{\\partial u^{[1]}}$ is the differentiation of the Relu function at $u^{[1]}$.\n",
    "\n",
    "The above equations outline the forward and backward propagation process for a 2-layer fully connected neural net with relu as the first activation layer and sigmoid has the second one. The same process can be extended to different neural networks with different activation layers like tanh. \n",
    "\n",
    "\n",
    "\n",
    "## Code Implementation: \n",
    "\n",
    "$$ \\begin{eqnarray} dLoss\\_o2 &=& \\frac{\\partial l}{\\partial o^{[2]}} \\implies dim=(1,426) \\\\ dLoss\\_u2 &=& dLoss\\_o2 \\frac{\\partial o^{[2]}}{\\partial u^{[2]}} \\implies dim=(1,426) \\\\ dLoss\\_theta2 &=& dLoss\\_u2 \\frac{\\partial u^{[2]}}{\\partial \\theta^{[2]}} \\implies dim=(1,15) \\\\ dLoss\\_b2 &=& dLoss\\_u2 \\frac{\\partial u^{[2]}}{\\partial b^{[2]}} \\implies dim=(1,1) \\\\ dLoss\\_o1 &=& dLoss\\_u2 \\frac{\\partial u^{[2]}}{\\partial o^{[1]}} \\implies dim=(15,426) \\\\ dLoss\\_u1 &=& dLoss\\_o1 \\frac{\\partial o^{[1]}}{\\partial u^{[1]}} \\implies dim=(15,426) \\\\ dLoss\\_theta1 &=& dLoss\\_u1 \\frac{\\partial u^{[1]}}{\\partial \\theta^{[1]}} \\implies dim=(15,30) \\\\ dLoss\\_b1 &=& dLoss\\_u1 \\frac{\\partial u^{[1]}}{\\partial b^{[1]}} \\implies dim=(15,1) \\end{eqnarray} $$ \n",
    "\n",
    "\n",
    "\n",
    "\n",
    "\n",
    "\n",
    "\n",
    "\n",
    "\n",
    "\n",
    "\n",
    "\n",
    "\n",
    "\n",
    "\n",
    "\n"
   ]
  },
  {
   "cell_type": "markdown",
   "metadata": {
    "id": "7e_A6GBe11nA"
   },
   "source": [
    "### Question \n",
    "\n",
    "In this question, you will implement a two layer fully connected neural network. You will also experiment with different activation functions and optimization techniques. Functions with comments \"TODO: implement this\" are for you to implement. We provide three activation functions here - Relu, Tanh and Sigmoid. You will implement a neural network that could have relu activation followed by sigmoid layer or tanh activation followed by sigmoid. You'll have to specify the neural net type which could be \"Relu -> Sigmoid\" (set by default) or \"Tanh -> Sigmoid\". \n",
    "\n",
    "\n",
    "You'll also implement gradient descent and stochastic gradient descent algorithms for training these neural nets. SGD is bonus for undergraduate students. \n",
    "\n",
    "We'll train these neural nets on breast cancer dataset. You're free to choose either gradient descent or SGD for training. Note: it is possible you'll run into nan or negative values for loss. This happens because of the small dataset we're using and some numerical stability issues that arise due to division by zero, natural log of zeros etc. You can experiment with the total number of iterations to mitigate this. \n",
    "\n",
    "<b>Deliverables for this question: </b>\n",
    "1. Loss plot and classification report for any neural net type (\"Relu -> Sigmoid\" or \"Tanh -> Sigmoid\") with gradient descent \n",
    "2. Loss plot and classification report for any neural net type (\"Relu -> Sigmoid\" or \"Tanh -> Sigmoid\") with stochastic gradient descent (mandatory for graduate students, bonus for undergraduate students)"
   ]
  },
  {
   "cell_type": "code",
   "execution_count": 28,
   "metadata": {
    "id": "eVcXl9-D2DMW"
   },
   "outputs": [],
   "source": [
    "import numpy as np \n",
    "import matplotlib.pyplot as plt\n",
    "from sklearn.datasets import load_breast_cancer\n",
    "from sklearn.preprocessing import MinMaxScaler\n",
    "\n",
    "from sklearn.model_selection import train_test_split\n",
    "from sklearn.metrics import classification_report\n",
    "from sklearn.metrics import plot_confusion_matrix\n",
    "\n",
    "'''\n",
    "We are going to use Breast Cancer Wisconsin (Diagnostic) Data Set provided by sklearn\n",
    "https://scikit-learn.org/stable/modules/generated/sklearn.datasets.load_breast_cancer.html\n",
    "to train a 2 fully connected layer neural net. We are going to buld the neural network from scratch. \n",
    "'''\n",
    "\n",
    "\n",
    "class dlnet:\n",
    "\n",
    "    def __init__(self, x, y, lr = 0.003):\n",
    "        '''\n",
    "        This method inializes the class, its implmented for you. \n",
    "        Args:\n",
    "            x: data\n",
    "            y: labels\n",
    "            Yh: predicted labels\n",
    "            dims: dimensions of different layers\n",
    "            param: dictionary of different layers parameters\n",
    "            ch: Cache dictionary to store forward parameters that are used in backpropagation\n",
    "            loss: list to store loss values\n",
    "            lr: learning rate\n",
    "            sam: number of training samples we have\n",
    "\n",
    "        '''        \n",
    "        self.X=x # features\n",
    "        self.Y=y # ground truth labels\n",
    "\n",
    "        self.Yh=np.zeros((1,self.Y.shape[1])) # estimated labels\n",
    "        self.dims = [30, 15, 1] # dimensions of different layers\n",
    "\n",
    "        self.param = { } # dictionary for different layer variables\n",
    "        self.ch = {} # cache for holding variables during forward propagation to use them in back prop\n",
    "        self.loss = []\n",
    "\n",
    "        self.lr=lr # learning rate\n",
    "        self.sam = self.Y.shape[1] # number of training samples we have\n",
    "        self._estimator_type = 'classifier'\n",
    "        self.neural_net_type = \"Relu -> Sigmoid\" #can change it to \"Tanh -> Sigmoid\" \n",
    "\n",
    "    def nInit(self): \n",
    "        '''\n",
    "        This method initializes the neural network variables, its already implemented for you. \n",
    "        Check it and relate to mathematical the description above.\n",
    "        You are going to use these variables in forward and backward propagation.\n",
    "        '''   \n",
    "        np.random.seed(1)\n",
    "        self.param['theta1'] = np.random.randn(self.dims[1], self.dims[0]) / np.sqrt(self.dims[0]) \n",
    "        self.param['b1'] = np.zeros((self.dims[1], 1))        \n",
    "        self.param['theta2'] = np.random.randn(self.dims[2], self.dims[1]) / np.sqrt(self.dims[1]) \n",
    "        self.param['b2'] = np.zeros((self.dims[2], 1))                \n",
    "        \n",
    "    \n",
    "\n",
    "    def Relu(self, u):\n",
    "        '''\n",
    "        In this method you are going to implement element wise Relu. \n",
    "        Make sure that all operations here are element wise and can be applied to an input of any dimension. \n",
    "        Input: u of any dimension\n",
    "        return: Relu(u) \n",
    "        '''\n",
    "        #TODO: implement this \n",
    "        zero = np.zeros_like(u)\n",
    "        relu = np.maximum(u, zero)\n",
    "        return relu \n",
    "\n",
    "\n",
    "    def Sigmoid(self, u): \n",
    "        '''\n",
    "        In this method you are going to implement element wise Sigmoid. \n",
    "        Make sure that all operations here are element wise and can be applied to an input of any dimension. \n",
    "        Input: u of any dimension\n",
    "        return: Sigmoid(u) \n",
    "        '''\n",
    "        #TODO: implement this \n",
    "        \n",
    "        # raise NotImplementedError\n",
    "        sig = 1 / (1 + np.exp(-u))\n",
    "        return sig \n",
    "\n",
    "\n",
    "    def Tanh(self, u):\n",
    "        '''\n",
    "        In this method you are going to implement element wise Tanh. \n",
    "        Make sure that all operations here are element wise and can be applied to an input of any dimension. \n",
    "        Input: u of any dimension\n",
    "        return: Tanh(u) \n",
    "        '''\n",
    "        #TODO: implement this \n",
    "        \n",
    "        # raise NotImplementedError\n",
    "        top = np.exp(u) - np.exp(-u)\n",
    "        bottom = np.exp(u) + np.exp(-u)\n",
    "        return top/bottom \n",
    "    \n",
    "    \n",
    "    def dRelu(self, u):\n",
    "        '''\n",
    "        This method implements element wise differentiation of Relu.  \n",
    "        Input: u of any dimension\n",
    "        return: dRelu(u) \n",
    "        '''\n",
    "        u[u<=0] = 0\n",
    "        u[u>0] = 1\n",
    "        return u\n",
    "\n",
    "\n",
    "    def dSigmoid(self, u):\n",
    "        '''\n",
    "        This method implements element wise differentiation of Sigmoid.  \n",
    "        Input: u of any dimension\n",
    "        return: dSigmoid(u) \n",
    "        '''\n",
    "        o = 1/(1+np.exp(-u))\n",
    "        do = o * (1-o)\n",
    "        return do\n",
    "\n",
    "    def dTanh(self, u):\n",
    "        '''\n",
    "        This method implements element wise differentiation of Tanh. \n",
    "        Input: u of any dimension\n",
    "        return: dTanh(u) \n",
    "        '''\n",
    "        \n",
    "        o = np.tanh(u)\n",
    "        return 1-o**2\n",
    "    \n",
    "    \n",
    "    def nloss(self,y, yh):\n",
    "        '''\n",
    "        In this method you are going to implement Cross Entropy loss. \n",
    "        Refer to the description above and implement the appropriate mathematical equation.\n",
    "        Input: y 1xN: ground truth labels\n",
    "               yh 1xN: neural network output after Sigmoid\n",
    "\n",
    "        return: CE 1x1: loss value \n",
    "        '''\n",
    "        \n",
    "        #TODO: implement this \n",
    "        \n",
    "        # raise NotImplementedError\n",
    "        n = y.shape[1]\n",
    "        sum_ys = np.sum(y * np.log(yh) + (1 - y) * np.log(1 - yh))\n",
    "        ce = (-1/n) * sum_ys \n",
    "        return ce \n",
    "\n",
    "\n",
    "    def forward(self, x):\n",
    "        '''\n",
    "        Fill in the missing code lines, please refer to the description for more details.\n",
    "        Check nInit method and use variables from there as well as other implemeted methods.\n",
    "        Refer to the description above and implement the appropriate mathematical equations.\n",
    "        do not change the lines followed by #keep. \n",
    "        '''  \n",
    "       \n",
    "          #Todo: uncomment the following 7 lines and complete the missing code\n",
    "        self.ch['X'] = x #keep\n",
    "        u1 = np.matmul(self.param['theta1'], x) + self.param['b1']\n",
    "        o1 = self.Relu(u1)   \n",
    "        self.ch['u1'], self.ch['o1']=u1, o1 #keep \n",
    "        u2 = np.matmul(self.param['theta2'], self.ch['o1']) + self.param['b2']    \n",
    "        o2 = self.Sigmoid(u2)\n",
    "        self.ch['u2'], self.ch['o2']=u2, o2 #keep\n",
    "            \n",
    "        return o2 #keep\n",
    "    \n",
    "\n",
    "    def backward(self, y, yh):\n",
    "        '''\n",
    "        Fill in the missing code lines, please refer to the description for more details\n",
    "        You will need to use cache variables, some of the implemeted methods, and other variables as well\n",
    "        Refer to the description above and implement the appropriate mathematical equations.\n",
    "        do not change the lines followed by #keep.  \n",
    "        '''    \n",
    "        #TODO: implement this \n",
    "        n = y.shape[1]\n",
    "            \n",
    "        dLoss_o2 = - (1/n) * ((np.divide(y, yh ) - np.divide(1 - y, 1 - yh)))   # partial l by partial o2  \n",
    "            \n",
    "        #Implement equations for getting derivative of loss w.r.t u2, theta2 and b2\n",
    "        # set dLoss_u2, dLoss_theta2, dLoss_b2 \n",
    "        dLoss_u2 = np.multiply(dLoss_o2, np.multiply(self.ch['o2'], (1 - self.ch['o2'])))\n",
    "        dLoss_theta2 = np.matmul(self.ch['o1'], dLoss_u2.T).T\n",
    "        dLoss_b2 = np.matmul(dLoss_u2, np.ones((426, 1)))# dLoss_u2 * du2/db2\n",
    "        \n",
    "        dLoss_o1 = np.dot(self.param[\"theta2\"].T,dLoss_u2) # partial l by partial o1\n",
    "       \n",
    "        \n",
    "        #Implement equations for getting derivative of loss w.r.t u1, theta1 and b1\n",
    "        # set dLoss_u1, dLoss_theta1, dLoss_b1\n",
    "        dLoss_u1 = np.multiply(dLoss_o1, self.dRelu(self.ch['u1']))\n",
    "        dLoss_theta1 = np.matmul(dLoss_u1, self.ch['X'].T)#dLoss_u1 du1/dtheta1\n",
    "        dLoss_b1 = np.matmul(dLoss_u1, np.ones((426, 1)))\n",
    "            \n",
    "        #parameters update, no need to change these lines\n",
    "        self.param[\"theta2\"] = self.param[\"theta2\"] - self.lr * dLoss_theta2 #keep\n",
    "        self.param[\"b2\"] = self.param[\"b2\"] - self.lr * dLoss_b2 #keep\n",
    "        self.param[\"theta1\"] = self.param[\"theta1\"] - self.lr * dLoss_theta1 #keep\n",
    "        self.param[\"b1\"] = self.param[\"b1\"] - self.lr * dLoss_b1 #keep\n",
    "        return dLoss_theta2, dLoss_b2, dLoss_theta1, dLoss_b1\n",
    "\n",
    "\n",
    "    def gradient_descent(self, x, y, iter = 60000):\n",
    "        '''\n",
    "        This function is an implementation of the gradient decent algorithm \n",
    "        '''    \n",
    "        #Todo: implement this\n",
    "        # yh = self.ch[o2] after u run forward <3 \n",
    "        self.nInit()\n",
    "        for i in range(iter):\n",
    "            yh = self.forward(x)\n",
    "            self.loss.append(self.nloss(y, yh))\n",
    "            self.backward(y, yh) \n",
    "    \n",
    "    #bonus for undergraduate students \n",
    "    def stochastic_gradient_descent(self, x, y, iter = 60000):\n",
    "        '''\n",
    "        This function is an implementation of the stochastic gradient decent algorithm\n",
    "\n",
    "        Note: \n",
    "        1. SGD loops over all examples in the dataset one by one and learns a gradient from each example \n",
    "        2. One iteration here is one round of forward and backward propagation on one example of the dataset. \n",
    "           So if the dataset has 1000 examples, 1000 iterations will constitute an epoch \n",
    "        3. Append loss after every 2000 iterations for plotting loss plots\n",
    "        4. It is fine if you get a noisy plot since learning on one example at a time adds variance to the \n",
    "           gradients learnt\n",
    "        5. You can use SGD with any neural net type \n",
    "        '''\n",
    "        \n",
    "        #Todo: implement this \n",
    "        raise NotImplementedError\n",
    "                        \n",
    "    def predict(self, x): \n",
    "        '''\n",
    "        This function predicts new data points\n",
    "        Its implemented for you\n",
    "        '''\n",
    "        Yh = self.forward(x)\n",
    "        return np.round(Yh).squeeze()\n"
   ]
  },
  {
   "cell_type": "code",
   "execution_count": 29,
   "metadata": {
    "colab": {
     "base_uri": "https://localhost:8080/",
     "height": 907
    },
    "id": "z-nbf6IJ2fkS",
    "outputId": "abedc38a-698f-4f2e-f2e2-05f4a7be29ae"
   },
   "outputs": [
    {
     "data": {
      "text/plain": [
       "Text(0, 0.5, 'Loss')"
      ]
     },
     "execution_count": 29,
     "metadata": {},
     "output_type": "execute_result"
    },
    {
     "data": {
      "image/png": "[encoded data removed]",
      "text/plain": [
       "<Figure size 432x288 with 1 Axes>"
      ]
     },
     "metadata": {
      "needs_background": "light"
     },
     "output_type": "display_data"
    }
   ],
   "source": [
    "'''\n",
    "Training the Neural Network, you do not need to modify this cell\n",
    "We are going to use Breast Cancer Wisconsin (Diagnostic) Data Set provided by sklearn\n",
    "https://scikit-learn.org/stable/modules/generated/sklearn.datasets.load_breast_cancer.html\n",
    "'''\n",
    "dataset = load_breast_cancer() # load the dataset\n",
    "x, y = dataset.data, dataset.target\n",
    "x = MinMaxScaler().fit_transform(x) #normalize data\n",
    "x_train, x_test, y_train, y_test = train_test_split(x, y, random_state=1) #split data\n",
    "x_train, x_test, y_train, y_test = x_train.T, x_test.T, y_train.reshape(1,-1), y_test #condition data\n",
    "\n",
    "nn = dlnet(x_train,y_train,lr=0.1) # initalize neural net class\n",
    "nn.gradient_descent(x_train, y_train, iter = 66000) #train\n",
    "\n",
    "# create figure\n",
    "fig = plt.plot(np.array(nn.loss).squeeze())\n",
    "plt.title(f'Training: {nn.neural_net_type}')\n",
    "plt.xlabel(\"Epoch\")\n",
    "plt.ylabel(\"Loss\")\n"
   ]
  },
  {
   "cell_type": "code",
   "execution_count": 30,
   "metadata": {
    "colab": {
     "base_uri": "https://localhost:8080/",
     "height": 495
    },
    "id": "DlHFnPF92yOp",
    "outputId": "12f6aa57-a8d0-4beb-fa66-ae4c1fde5707"
   },
   "outputs": [
    {
     "name": "stdout",
     "output_type": "stream",
     "text": [
      "Classification Report for Relu -> Sigmoid\n",
      "\n",
      "\n",
      "              precision    recall  f1-score   support\n",
      "\n",
      "   malignant       0.96      0.95      0.95        55\n",
      "      benign       0.97      0.98      0.97        88\n",
      "\n",
      "    accuracy                           0.97       143\n",
      "   macro avg       0.96      0.96      0.96       143\n",
      "weighted avg       0.97      0.97      0.96       143\n",
      "\n"
     ]
    },
    {
     "data": {
      "image/png": "[encoded data removed]",
      "text/plain": [
       "<Figure size 432x288 with 2 Axes>"
      ]
     },
     "metadata": {
      "needs_background": "light"
     },
     "output_type": "display_data"
    }
   ],
   "source": [
    "'''\n",
    "Testing Neural Network\n",
    "'''\n",
    "y_predicted = nn.predict(x_test) # predict \n",
    "\n",
    "#plot\n",
    "print(f\"Classification Report for {nn.neural_net_type}\\n\\n\")\n",
    "print(classification_report(y_test, y_predicted, target_names=dataset.target_names))\n",
    "plot_confusion_matrix(nn, x_test, y_test, cmap=plt.cm.Blues, display_labels=dataset.target_names)  \n",
    "plt.show()  \n"
   ]
  },
  {
   "cell_type": "code",
   "execution_count": 31,
   "metadata": {
    "colab": {
     "base_uri": "https://localhost:8080/",
     "height": 907
    },
    "id": "2BiCt8H1m86M",
    "outputId": "3877951d-85b3-4a6c-a876-f01f90381154"
   },
   "outputs": [
    {
     "ename": "NotImplementedError",
     "evalue": "",
     "output_type": "error",
     "traceback": [
      "\u001b[0;31m---------------------------------------------------------------------------\u001b[0m",
      "\u001b[0;31mNotImplementedError\u001b[0m                       Traceback (most recent call last)",
      "\u001b[0;32m<ipython-input-31-ce6267ec66c3>\u001b[0m in \u001b[0;36m<module>\u001b[0;34m\u001b[0m\n\u001b[1;32m     11\u001b[0m \u001b[0;34m\u001b[0m\u001b[0m\n\u001b[1;32m     12\u001b[0m \u001b[0mnn\u001b[0m \u001b[0;34m=\u001b[0m \u001b[0mdlnet\u001b[0m\u001b[0;34m(\u001b[0m\u001b[0mx_train\u001b[0m\u001b[0;34m,\u001b[0m\u001b[0my_train\u001b[0m\u001b[0;34m,\u001b[0m\u001b[0mlr\u001b[0m\u001b[0;34m=\u001b[0m\u001b[0;36m0.1\u001b[0m\u001b[0;34m)\u001b[0m \u001b[0;31m# initalize neural net class\u001b[0m\u001b[0;34m\u001b[0m\u001b[0;34m\u001b[0m\u001b[0m\n\u001b[0;32m---> 13\u001b[0;31m \u001b[0mnn\u001b[0m\u001b[0;34m.\u001b[0m\u001b[0mstochastic_gradient_descent\u001b[0m\u001b[0;34m(\u001b[0m\u001b[0mx_train\u001b[0m\u001b[0;34m,\u001b[0m \u001b[0my_train\u001b[0m\u001b[0;34m,\u001b[0m \u001b[0miter\u001b[0m \u001b[0;34m=\u001b[0m \u001b[0;36m66000\u001b[0m\u001b[0;34m)\u001b[0m \u001b[0;31m#train\u001b[0m\u001b[0;34m\u001b[0m\u001b[0;34m\u001b[0m\u001b[0m\n\u001b[0m\u001b[1;32m     14\u001b[0m \u001b[0;34m\u001b[0m\u001b[0m\n\u001b[1;32m     15\u001b[0m \u001b[0;31m# create figure\u001b[0m\u001b[0;34m\u001b[0m\u001b[0;34m\u001b[0m\u001b[0;34m\u001b[0m\u001b[0m\n",
      "\u001b[0;32m<ipython-input-28-0207e60623b6>\u001b[0m in \u001b[0;36mstochastic_gradient_descent\u001b[0;34m(self, x, y, iter)\u001b[0m\n\u001b[1;32m    237\u001b[0m \u001b[0;34m\u001b[0m\u001b[0m\n\u001b[1;32m    238\u001b[0m         \u001b[0;31m#Todo: implement this\u001b[0m\u001b[0;34m\u001b[0m\u001b[0;34m\u001b[0m\u001b[0;34m\u001b[0m\u001b[0m\n\u001b[0;32m--> 239\u001b[0;31m         \u001b[0;32mraise\u001b[0m \u001b[0mNotImplementedError\u001b[0m\u001b[0;34m\u001b[0m\u001b[0;34m\u001b[0m\u001b[0m\n\u001b[0m\u001b[1;32m    240\u001b[0m \u001b[0;34m\u001b[0m\u001b[0m\n\u001b[1;32m    241\u001b[0m     \u001b[0;32mdef\u001b[0m \u001b[0mpredict\u001b[0m\u001b[0;34m(\u001b[0m\u001b[0mself\u001b[0m\u001b[0;34m,\u001b[0m \u001b[0mx\u001b[0m\u001b[0;34m)\u001b[0m\u001b[0;34m:\u001b[0m\u001b[0;34m\u001b[0m\u001b[0;34m\u001b[0m\u001b[0m\n",
      "\u001b[0;31mNotImplementedError\u001b[0m: "
     ]
    }
   ],
   "source": [
    "'''\n",
    "Training the Neural Network, you do not need to modify this cell\n",
    "We are going to use Breast Cancer Wisconsin (Diagnostic) Data Set provided by sklearn\n",
    "https://scikit-learn.org/stable/modules/generated/sklearn.datasets.load_breast_cancer.html\n",
    "'''\n",
    "dataset = load_breast_cancer() # load the dataset\n",
    "x, y = dataset.data, dataset.target\n",
    "x = MinMaxScaler().fit_transform(x) #normalize data\n",
    "x_train, x_test, y_train, y_test = train_test_split(x, y, random_state=1) #split data\n",
    "x_train, x_test, y_train, y_test = x_train.T, x_test.T, y_train.reshape(1,-1), y_test #condition data\n",
    "\n",
    "nn = dlnet(x_train,y_train,lr=0.1) # initalize neural net class\n",
    "nn.stochastic_gradient_descent(x_train, y_train, iter = 66000) #train\n",
    "\n",
    "# create figure\n",
    "fig = plt.plot(np.array(nn.loss).squeeze())\n",
    "plt.title(f'Training: {nn.neural_net_type}')\n",
    "plt.xlabel(\"Epoch\")\n",
    "plt.ylabel(\"Loss\")\n",
    "\n"
   ]
  },
  {
   "cell_type": "code",
   "execution_count": 32,
   "metadata": {},
   "outputs": [
    {
     "ename": "KeyError",
     "evalue": "'theta1'",
     "output_type": "error",
     "traceback": [
      "\u001b[0;31m---------------------------------------------------------------------------\u001b[0m",
      "\u001b[0;31mKeyError\u001b[0m                                  Traceback (most recent call last)",
      "\u001b[0;32m<ipython-input-32-d1d086089944>\u001b[0m in \u001b[0;36m<module>\u001b[0;34m\u001b[0m\n\u001b[1;32m      2\u001b[0m \u001b[0mTesting\u001b[0m \u001b[0mNeural\u001b[0m \u001b[0mNetwork\u001b[0m\u001b[0;34m\u001b[0m\u001b[0;34m\u001b[0m\u001b[0m\n\u001b[1;32m      3\u001b[0m '''\n\u001b[0;32m----> 4\u001b[0;31m \u001b[0my_predicted\u001b[0m \u001b[0;34m=\u001b[0m \u001b[0mnn\u001b[0m\u001b[0;34m.\u001b[0m\u001b[0mpredict\u001b[0m\u001b[0;34m(\u001b[0m\u001b[0mx_test\u001b[0m\u001b[0;34m)\u001b[0m \u001b[0;31m# predict\u001b[0m\u001b[0;34m\u001b[0m\u001b[0;34m\u001b[0m\u001b[0m\n\u001b[0m\u001b[1;32m      5\u001b[0m \u001b[0;34m\u001b[0m\u001b[0m\n\u001b[1;32m      6\u001b[0m \u001b[0;31m#plot\u001b[0m\u001b[0;34m\u001b[0m\u001b[0;34m\u001b[0m\u001b[0;34m\u001b[0m\u001b[0m\n",
      "\u001b[0;32m<ipython-input-28-0207e60623b6>\u001b[0m in \u001b[0;36mpredict\u001b[0;34m(self, x)\u001b[0m\n\u001b[1;32m    244\u001b[0m         \u001b[0mIts\u001b[0m \u001b[0mimplemented\u001b[0m \u001b[0;32mfor\u001b[0m \u001b[0myou\u001b[0m\u001b[0;34m\u001b[0m\u001b[0;34m\u001b[0m\u001b[0m\n\u001b[1;32m    245\u001b[0m         '''\n\u001b[0;32m--> 246\u001b[0;31m         \u001b[0mYh\u001b[0m \u001b[0;34m=\u001b[0m \u001b[0mself\u001b[0m\u001b[0;34m.\u001b[0m\u001b[0mforward\u001b[0m\u001b[0;34m(\u001b[0m\u001b[0mx\u001b[0m\u001b[0;34m)\u001b[0m\u001b[0;34m\u001b[0m\u001b[0;34m\u001b[0m\u001b[0m\n\u001b[0m\u001b[1;32m    247\u001b[0m         \u001b[0;32mreturn\u001b[0m \u001b[0mnp\u001b[0m\u001b[0;34m.\u001b[0m\u001b[0mround\u001b[0m\u001b[0;34m(\u001b[0m\u001b[0mYh\u001b[0m\u001b[0;34m)\u001b[0m\u001b[0;34m.\u001b[0m\u001b[0msqueeze\u001b[0m\u001b[0;34m(\u001b[0m\u001b[0;34m)\u001b[0m\u001b[0;34m\u001b[0m\u001b[0;34m\u001b[0m\u001b[0m\n",
      "\u001b[0;32m<ipython-input-28-0207e60623b6>\u001b[0m in \u001b[0;36mforward\u001b[0;34m(self, x)\u001b[0m\n\u001b[1;32m    164\u001b[0m           \u001b[0;31m#Todo: uncomment the following 7 lines and complete the missing code\u001b[0m\u001b[0;34m\u001b[0m\u001b[0;34m\u001b[0m\u001b[0;34m\u001b[0m\u001b[0m\n\u001b[1;32m    165\u001b[0m         \u001b[0mself\u001b[0m\u001b[0;34m.\u001b[0m\u001b[0mch\u001b[0m\u001b[0;34m[\u001b[0m\u001b[0;34m'X'\u001b[0m\u001b[0;34m]\u001b[0m \u001b[0;34m=\u001b[0m \u001b[0mx\u001b[0m \u001b[0;31m#keep\u001b[0m\u001b[0;34m\u001b[0m\u001b[0;34m\u001b[0m\u001b[0m\n\u001b[0;32m--> 166\u001b[0;31m         \u001b[0mu1\u001b[0m \u001b[0;34m=\u001b[0m \u001b[0mnp\u001b[0m\u001b[0;34m.\u001b[0m\u001b[0mmatmul\u001b[0m\u001b[0;34m(\u001b[0m\u001b[0mself\u001b[0m\u001b[0;34m.\u001b[0m\u001b[0mparam\u001b[0m\u001b[0;34m[\u001b[0m\u001b[0;34m'theta1'\u001b[0m\u001b[0;34m]\u001b[0m\u001b[0;34m,\u001b[0m \u001b[0mx\u001b[0m\u001b[0;34m)\u001b[0m \u001b[0;34m+\u001b[0m \u001b[0mself\u001b[0m\u001b[0;34m.\u001b[0m\u001b[0mparam\u001b[0m\u001b[0;34m[\u001b[0m\u001b[0;34m'b1'\u001b[0m\u001b[0;34m]\u001b[0m\u001b[0;34m\u001b[0m\u001b[0;34m\u001b[0m\u001b[0m\n\u001b[0m\u001b[1;32m    167\u001b[0m         \u001b[0mo1\u001b[0m \u001b[0;34m=\u001b[0m \u001b[0mself\u001b[0m\u001b[0;34m.\u001b[0m\u001b[0mRelu\u001b[0m\u001b[0;34m(\u001b[0m\u001b[0mu1\u001b[0m\u001b[0;34m)\u001b[0m\u001b[0;34m\u001b[0m\u001b[0;34m\u001b[0m\u001b[0m\n\u001b[1;32m    168\u001b[0m         \u001b[0mself\u001b[0m\u001b[0;34m.\u001b[0m\u001b[0mch\u001b[0m\u001b[0;34m[\u001b[0m\u001b[0;34m'u1'\u001b[0m\u001b[0;34m]\u001b[0m\u001b[0;34m,\u001b[0m \u001b[0mself\u001b[0m\u001b[0;34m.\u001b[0m\u001b[0mch\u001b[0m\u001b[0;34m[\u001b[0m\u001b[0;34m'o1'\u001b[0m\u001b[0;34m]\u001b[0m\u001b[0;34m=\u001b[0m\u001b[0mu1\u001b[0m\u001b[0;34m,\u001b[0m \u001b[0mo1\u001b[0m \u001b[0;31m#keep\u001b[0m\u001b[0;34m\u001b[0m\u001b[0;34m\u001b[0m\u001b[0m\n",
      "\u001b[0;31mKeyError\u001b[0m: 'theta1'"
     ]
    }
   ],
   "source": [
    "'''\n",
    "Testing Neural Network\n",
    "'''\n",
    "y_predicted = nn.predict(x_test) # predict \n",
    "\n",
    "#plot\n",
    "print(f\"Classification Report for {nn.neural_net_type}\\n\\n\")\n",
    "print(classification_report(y_test, y_predicted, target_names=dataset.target_names))\n",
    "plot_confusion_matrix(nn, x_test, y_test, cmap=plt.cm.Blues, display_labels=dataset.target_names)  \n",
    "plt.show()"
   ]
  },
  {
   "cell_type": "markdown",
   "metadata": {
    "id": "ayv_tqnyxMb0"
   },
   "source": [
    "## 2:  (Bounus for all) Image Classification based on Convolutional Neural Networks [15pts] <span style=\"color:green\">**[W]**</span>\n"
   ]
  },
  {
   "cell_type": "markdown",
   "metadata": {
    "id": "NAcYa40pm86P"
   },
   "source": [
    "Keras is a deep learning API written in Python, running on top of the machine learning platform TensorFlow. It was developed with a focus on enabling fast experimentation. Being able to go from idea to result as fast as possible is key to doing good research. In this part, you will build a convolutional neural network based on Keras to solve the image classification task for MINIST. If you haven't installed TensorFlow, you can install the package by **pip** command or train your model by uploading HW4 notebook to [Colab](https://colab.research.google.com/) directly. Colab contains all packages you need for this section.  \n",
    "\n",
    "Hint1: [First contact with Keras](https://keras.io/about/)\n",
    "\n",
    "Hint2: [How to Install Keras](https://www.pyimagesearch.com/2016/07/18/installing-keras-for-deep-learning/)\n",
    "\n",
    "Hint3：[CS231n Tutorial (Layers used to build ConvNets) ](https://cs231n.github.io/convolutional-networks/)"
   ]
  },
  {
   "cell_type": "markdown",
   "metadata": {
    "id": "WWSeZNmCm86P"
   },
   "source": [
    "### Environment Setup"
   ]
  },
  {
   "cell_type": "code",
   "execution_count": null,
   "metadata": {
    "id": "X2Cwef24xgtT"
   },
   "outputs": [],
   "source": [
    "from __future__ import print_function\n",
    "import keras\n",
    "from keras.datasets import mnist\n",
    "from keras.models import Sequential\n",
    "from keras.layers import Dense, Dropout, Flatten\n",
    "from keras.layers import Conv2D, MaxPooling2D\n",
    "from keras import backend as K\n",
    "import matplotlib.pyplot as plt"
   ]
  },
  {
   "cell_type": "markdown",
   "metadata": {
    "id": "D5wmr3mt2yOu"
   },
   "source": [
    "### Load MINIST dataset"
   ]
  },
  {
   "cell_type": "markdown",
   "metadata": {
    "id": "PxDuP6Yq2yOv"
   },
   "source": [
    "We use [MINIST](http://yann.lecun.com/exdb/mnist/) dataset to train our model. MINIST is a subset of a larger set available from NIST. MNIST database of handwritten digits has a training set of 60,000 examples, and a test set of 10,000 examples. Each example is $28\\times 28$ pixel grayscale image of handwritten digits between 0 to 9. "
   ]
  },
  {
   "cell_type": "code",
   "execution_count": null,
   "metadata": {
    "id": "Zv8fRYkp2yOv",
    "outputId": "a8884fe7-a4f6-42e8-dfa7-b86b83c76349"
   },
   "outputs": [
    {
     "name": "stdout",
     "output_type": "stream",
     "text": [
      "x_train shape: (60000, 28, 28, 1)\n",
      "x_test shape: (10000, 28, 28, 1)\n",
      "60000 train samples\n",
      "10000 test samples\n"
     ]
    }
   ],
   "source": [
    "# Helper function, You don't need to modify it\n",
    "# split data between train and test sets\n",
    "(x_train, y_train), (x_test, y_test) = mnist.load_data()\n",
    "\n",
    "# input image dimensions\n",
    "img_rows, img_cols = 28, 28\n",
    "#set num of classes\n",
    "num_classes = 10\n",
    "\n",
    "if K.image_data_format() == 'channels_first':\n",
    "    x_train = x_train.reshape(x_train.shape[0], 1, img_rows, img_cols)\n",
    "    x_test = x_test.reshape(x_test.shape[0], 1, img_rows, img_cols)\n",
    "    input_shape = (1, img_rows, img_cols)\n",
    "else:\n",
    "    x_train = x_train.reshape(x_train.shape[0], img_rows, img_cols, 1)\n",
    "    x_test = x_test.reshape(x_test.shape[0], img_rows, img_cols, 1)\n",
    "    input_shape = (img_rows, img_cols, 1)\n",
    "\n",
    "x_train = x_train.astype('float32')\n",
    "x_test = x_test.astype('float32')\n",
    "x_train /= 255\n",
    "x_test /= 255\n",
    "print('x_train shape:', x_train.shape)\n",
    "print('x_test shape:', x_test.shape)\n",
    "print(x_train.shape[0], 'train samples')\n",
    "print(x_test.shape[0], 'test samples')\n",
    "# convert class vectors to binary class matrices\n",
    "y_train = keras.utils.to_categorical(y_train, num_classes)\n",
    "y_test = keras.utils.to_categorical(y_test, num_classes)"
   ]
  },
  {
   "cell_type": "markdown",
   "metadata": {
    "id": "IropaXmi2yOy"
   },
   "source": [
    "### Load some images from MINIST##"
   ]
  },
  {
   "cell_type": "code",
   "execution_count": null,
   "metadata": {
    "id": "NaUQz7x52yOy",
    "outputId": "fe6cb811-a827-4f91-b89f-6b14b416d8f8"
   },
   "outputs": [
    {
     "data": {
      "image/png": "[encoded data removed]",
      "text/plain": [
       "<Figure size 432x288 with 25 Axes>"
      ]
     },
     "metadata": {
      "needs_background": "light",
      "tags": []
     },
     "output_type": "display_data"
    }
   ],
   "source": [
    "# Helper function, You don't need to modify it\n",
    "# Show some images from MINIST\n",
    "for i in range(0,25):\n",
    "    plt.subplot(5,5,i+1)\n",
    "    image=x_train[i].reshape((28,28))\n",
    "    plt.imshow(image,cmap='gray')\n",
    "plt.show()"
   ]
  },
  {
   "cell_type": "markdown",
   "metadata": {
    "id": "uJEjYyism86Y"
   },
   "source": [
    "As you can see from above, the MINIST dataset contains handwritten digits from 0 to 9. The digits have been size-normalized and centered in fixed-size images."
   ]
  },
  {
   "cell_type": "markdown",
   "metadata": {
    "id": "deWtvYFKm86Z"
   },
   "source": [
    "### Build convolutional neural network model"
   ]
  },
  {
   "cell_type": "markdown",
   "metadata": {
    "id": "g8ioOgl1m86Z"
   },
   "source": [
    "In this part, you need to build a convolutional neural network that contains 2 convolutional layers. The architecture of thie model is:\n",
    "\n",
    " **[INPUT - CONV - RELU - MAXPOOL - CONV - RELU - MAXPOOL - FC1 - FC2]** [1]\n",
    "\n",
    "\n",
    "> INPUT: [$28\\times28\\times1$] will hold the raw pixel values of the image, in this case, an image of width 28, height 28, and with only one color channels.\n",
    "\n",
    "\n",
    "> CONV: Conv. layer will compute the output of neurons that are connected to local regions in the input, each computing a dot product between their weights and a small region they are connected to the input volume. We decide to set the kernel_size $3\\times3$ for the both Conv. layers. For example, the output of the Conv. layer may like $[26\\times26\\times32]$ if we use 32 filters. \n",
    "\n",
    "\n",
    "> RELU: As we mentioned in the previous section, the Relu layer will apply an elementwise activation function, such as the max(0,x) thresholding at zero, which leaves the size of the volume unchanged.\n",
    "\n",
    "> MAXPOOL: MAXPOOL layer will perform a downsampling operation along the spatial dimensions (width, hight). \n",
    "\n",
    "> FC1: First Fully-Connected layer, we use **ReLu** as the activation function. The dimension of the output space is 128.\n",
    "\n",
    "> FC2: Second Fully-Connected layer will compute the class scores. We use **Softmax** as the activation function. The dimension of the output space is the number of class. \n",
    "\n",
    "**Loss function**: Crossentropy (mentioned in the previous section) \n",
    "\n",
    "**optimizer**: Stochastic gradient descent(SGD)\n",
    "\n",
    "\n",
    "\n",
    "[1] CS231n: https://cs231n.github.io/convolutional-networks/\n"
   ]
  },
  {
   "cell_type": "code",
   "execution_count": null,
   "metadata": {
    "id": "L6fLE8Wpm86Z",
    "outputId": "e3bde7b8-cf2f-4f25-bb8b-2d8adcf4f9b6"
   },
   "outputs": [
    {
     "data": {
      "text/plain": [
       "<matplotlib.image.AxesImage at 0x1962b0a9608>"
      ]
     },
     "execution_count": 16,
     "metadata": {
      "tags": []
     },
     "output_type": "execute_result"
    },
    {
     "data": {
      "image/png": "[encoded data removed]",
      "text/plain": [
       "<Figure size 720x720 with 1 Axes>"
      ]
     },
     "metadata": {
      "needs_background": "light",
      "tags": []
     },
     "output_type": "display_data"
    }
   ],
   "source": [
    "# Helper function, You don't need to modify it\n",
    "# Show the architecture of the model\n",
    "achi=plt.imread('Architecture.png')\n",
    "fig = plt.figure(figsize=(10,10))\n",
    "plt.imshow(achi)"
   ]
  },
  {
   "cell_type": "markdown",
   "metadata": {
    "id": "6FagsUubm86c"
   },
   "source": [
    "#### Defining Variables ####"
   ]
  },
  {
   "cell_type": "code",
   "execution_count": null,
   "metadata": {
    "id": "RZp2AB_r2yO0"
   },
   "outputs": [],
   "source": [
    "# Defining Variables\n",
    "# Do not change the value of num_classes. \n",
    "# You can adjust of adding parameters to train your model\n",
    "batch_size = 128\n",
    "epochs = 12\n",
    "lr= 1e-3 #learning rate"
   ]
  },
  {
   "cell_type": "markdown",
   "metadata": {
    "id": "5F5PWx17m86g"
   },
   "source": [
    "#### Defining model ####"
   ]
  },
  {
   "cell_type": "code",
   "execution_count": null,
   "metadata": {
    "id": "XP4IaJPP2yO3"
   },
   "outputs": [],
   "source": [
    "def create_net():\n",
    "  '''\n",
    "  In this function you are going to build a convolutional neural network based on Keras.\n",
    "  First, use Sequential() to set the inference features on this model. \n",
    "  Then, use model.add() and model.compile() to build your own model\n",
    "  Return: model you build\n",
    "  '''\n",
    "    raise NotImplementedError"
   ]
  },
  {
   "cell_type": "code",
   "execution_count": null,
   "metadata": {
    "id": "tKpTMi2rm86i",
    "outputId": "0082a080-9992-4b04-d721-ca0eb29f074a"
   },
   "outputs": [
    {
     "name": "stdout",
     "output_type": "stream",
     "text": [
      "Model: \"sequential\"\n",
      "_________________________________________________________________\n",
      "Layer (type)                 Output Shape              Param #   \n",
      "=================================================================\n",
      "conv2d (Conv2D)              (None, 26, 26, 32)        320       \n",
      "_________________________________________________________________\n",
      "max_pooling2d (MaxPooling2D) (None, 13, 13, 32)        0         \n",
      "_________________________________________________________________\n",
      "conv2d_1 (Conv2D)            (None, 11, 11, 64)        18496     \n",
      "_________________________________________________________________\n",
      "max_pooling2d_1 (MaxPooling2 (None, 5, 5, 64)          0         \n",
      "_________________________________________________________________\n",
      "flatten (Flatten)            (None, 1600)              0         \n",
      "_________________________________________________________________\n",
      "dense (Dense)                (None, 128)               204928    \n",
      "_________________________________________________________________\n",
      "dense_1 (Dense)              (None, 10)                1290      \n",
      "=================================================================\n",
      "Total params: 225,034\n",
      "Trainable params: 225,034\n",
      "Non-trainable params: 0\n",
      "_________________________________________________________________\n"
     ]
    }
   ],
   "source": [
    "# Helper function, You don't need to modify it\n",
    "# model.summary() gives you details of your architecture.\n",
    "#You can compare your architecture with the 'Architecture.png'\n",
    "model=create_net()\n",
    "model.summary()"
   ]
  },
  {
   "cell_type": "markdown",
   "metadata": {
    "id": "85m3oJ-1Voxe"
   },
   "source": [
    "### Train the network"
   ]
  },
  {
   "cell_type": "markdown",
   "metadata": {
    "id": "QYHAZAnZm86l"
   },
   "source": [
    "**Tuning:** Training the network is the next thing to try.  You can set your parameter at the **Defining Variable** section. If your parameters are set properly, you should see the loss of the validation set decreased and the value of accuracy increased. It may take more than 20 minutes to train your model. \n",
    "\n",
    "**Expected Result:** You should be able to achieve more than $90\\%$ accuracy on the test set to get full 15 points. If you achieve accuracy between $80\\%$ to $90\\%$, you will only get half points of this part. "
   ]
  },
  {
   "cell_type": "markdown",
   "metadata": {
    "id": "gUSAXVGPm86l"
   },
   "source": [
    "#### Train your own CNN model####"
   ]
  },
  {
   "cell_type": "code",
   "execution_count": null,
   "metadata": {
    "id": "lCpEenFbm86m",
    "outputId": "fbbae3e9-c9b5-4dd0-ba15-b095678e07a0"
   },
   "outputs": [
    {
     "name": "stdout",
     "output_type": "stream",
     "text": [
      "Epoch 1/12\n",
      "469/469 [==============================] - 12s 26ms/step - loss: 2.2704 - accuracy: 0.2663 - val_loss: 2.2352 - val_accuracy: 0.4084\n",
      "Epoch 2/12\n",
      "469/469 [==============================] - 12s 25ms/step - loss: 2.1900 - accuracy: 0.5138 - val_loss: 2.1270 - val_accuracy: 0.6073\n",
      "Epoch 3/12\n",
      "469/469 [==============================] - 12s 25ms/step - loss: 2.0208 - accuracy: 0.6436 - val_loss: 1.8617 - val_accuracy: 0.6815\n",
      "Epoch 4/12\n",
      "469/469 [==============================] - 12s 25ms/step - loss: 1.6015 - accuracy: 0.6975 - val_loss: 1.2752 - val_accuracy: 0.7387\n",
      "Epoch 5/12\n",
      "469/469 [==============================] - 12s 26ms/step - loss: 1.0335 - accuracy: 0.7588 - val_loss: 0.8050 - val_accuracy: 0.8035\n",
      "Epoch 6/12\n",
      "469/469 [==============================] - 12s 26ms/step - loss: 0.7072 - accuracy: 0.8144 - val_loss: 0.5868 - val_accuracy: 0.8504\n",
      "Epoch 7/12\n",
      "469/469 [==============================] - 12s 26ms/step - loss: 0.5488 - accuracy: 0.8525 - val_loss: 0.4763 - val_accuracy: 0.8775\n",
      "Epoch 8/12\n",
      "469/469 [==============================] - 12s 26ms/step - loss: 0.4625 - accuracy: 0.8741 - val_loss: 0.4130 - val_accuracy: 0.8926\n",
      "Epoch 9/12\n",
      "469/469 [==============================] - 13s 27ms/step - loss: 0.4097 - accuracy: 0.8875 - val_loss: 0.3709 - val_accuracy: 0.8983\n",
      "Epoch 10/12\n",
      "469/469 [==============================] - 12s 26ms/step - loss: 0.3737 - accuracy: 0.8954 - val_loss: 0.3409 - val_accuracy: 0.9071\n",
      "Epoch 11/12\n",
      "469/469 [==============================] - 12s 26ms/step - loss: 0.3473 - accuracy: 0.9015 - val_loss: 0.3188 - val_accuracy: 0.9098\n",
      "Epoch 12/12\n",
      "469/469 [==============================] - 12s 26ms/step - loss: 0.3266 - accuracy: 0.9069 - val_loss: 0.3015 - val_accuracy: 0.9164\n",
      "Test loss: 0.3014563024044037\n",
      "Test accuracy: 0.9164000153541565\n"
     ]
    }
   ],
   "source": [
    "# Helper function, You don't need to modify it\n",
    "# Train the model\n",
    "history = model.fit(x_train, y_train,\n",
    "          batch_size=batch_size,\n",
    "          epochs=epochs,\n",
    "          verbose=1,\n",
    "          validation_data=(x_test, y_test))\n",
    "score = model.evaluate(x_test, y_test, verbose=0)\n",
    "print('Test loss:', score[0])\n",
    "print('Test accuracy:', score[1])"
   ]
  },
  {
   "cell_type": "code",
   "execution_count": null,
   "metadata": {
    "id": "w0dD-7Edm86o",
    "outputId": "dd9af087-5681-4d2c-f080-31bad8ed4c43"
   },
   "outputs": [
    {
     "name": "stdout",
     "output_type": "stream",
     "text": [
      "dict_keys(['loss', 'accuracy', 'val_loss', 'val_accuracy'])\n"
     ]
    },
    {
     "data": {
      "image/png": "[encoded data removed]",
      "text/plain": [
       "<Figure size 432x288 with 1 Axes>"
      ]
     },
     "metadata": {
      "needs_background": "light",
      "tags": []
     },
     "output_type": "display_data"
    },
    {
     "data": {
      "image/png": "[encoded data removed]",
      "text/plain": [
       "<Figure size 432x288 with 1 Axes>"
      ]
     },
     "metadata": {
      "needs_background": "light",
      "tags": []
     },
     "output_type": "display_data"
    }
   ],
   "source": [
    "# Helper function, You don't need to modify it\n",
    "# list all data in history\n",
    "print(history.history.keys())\n",
    "# summarize history for accuracy\n",
    "plt.plot(history.history['accuracy'])\n",
    "plt.plot(history.history['val_accuracy'])\n",
    "plt.title('model accuracy')\n",
    "plt.ylabel('accuracy')\n",
    "plt.xlabel('epoch')\n",
    "plt.legend(['train', 'test'], loc='upper left')\n",
    "plt.show()\n",
    "# summary\n",
    "\n",
    "plt.plot(history.history['loss'])\n",
    "plt.plot(history.history['val_loss'])\n",
    "plt.title('model loss')\n",
    "plt.ylabel('loss')\n",
    "plt.xlabel('epoch')\n",
    "plt.legend(['train', 'test'], loc='upper left')\n",
    "plt.show()\n"
   ]
  },
  {
   "cell_type": "markdown",
   "metadata": {
    "id": "6FxKE3QN2yO6"
   },
   "source": [
    "## 3: Random Forests [40pts] <span style=\"color:blue\">**[P]**</span> <span style=\"color:green\">**[W]**</span>\n",
    "\n",
    "**NOTE**: Please use sklearn's DecisionTreeClassifier in your Random Forest implementation.\n",
    "[You can find more details about this classifier here.](https://scikit-learn.org/stable/modules/generated/sklearn.tree.DecisionTreeClassifier.html#sklearn.tree.DecisionTreeClassifier_)"
   ]
  },
  {
   "cell_type": "markdown",
   "metadata": {
    "id": "5zP6DnH62yO9"
   },
   "source": [
    "### 3.1 Random Forest Implementation (30 pts) <span style=\"color:blue\">**[P]**</span>\n",
    "\n",
    "The decision boundaries drawn by decision trees are very sharp, and fitting a decision tree of unbounded depth to a list of examples almost inevitably leads to **overfitting**. In an attempt to decrease the variance of a decision tree, we're going to use a technique called 'Bootstrap Aggregating' (often abbreviated 'bagging'). This stems from the idea that a collection of weak learners can learn decision boundaries as well as a strong learner. This is commonly called a Random Forest.\n",
    "\n",
    "We can build a Random Forest as a collection of decision trees, as follows:\n",
    "\n",
    "1) For every tree in the random forest, we're going to \n",
    "\n",
    "    a) Subsample the examples with replacement. Note that in this question, the size of the subsample data is equal to the original dataset. \n",
    "    \n",
    "    b) From the subsamples in a), choose attributes at random to learn on in accordance with a provided attribute subsampling rate. Based on what it was mentioned in the class, we randomly pick features in each split. We use a more general approach here to make the programming part easier. Let's randomly pick some features (70% percent of features) and grow the tree based on the pre-determined randomly selected features. Therefore, there is no need to find random features in each split.\n",
    "    \n",
    "    c) Fit a decision tree to the subsample of data we've chosen to a certain depth.\n",
    "    \n",
    "Classification for a random forest is then done by taking a majority vote of the classifications yielded by each tree in the forest after it classifies an example.\n",
    "\n",
    "In RandomForest Class, \n",
    "1. X is assumed to be a matrix with num_training rows and num_features columns where num_training is the\n",
    "number of total records and num_features is the number of features of each record. \n",
    "\n",
    "2. y is assumed to be a vector of labels of length num_training.\n",
    "\n",
    "**NOTE:** Lookout for TODOs for the parts that needs to be implemented."
   ]
  },
  {
   "cell_type": "code",
   "execution_count": 14,
   "metadata": {
    "id": "TMCsVv7U2yO7"
   },
   "outputs": [],
   "source": [
    "import numpy as np\n",
    "import sklearn\n",
    "from sklearn.tree import DecisionTreeClassifier\n",
    "import math\n",
    "\n",
    "class RandomForest(object):\n",
    "    def __init__(self, n_estimators=50, max_depth=None, max_features=0.7):\n",
    "        # helper function. You don't have to modify it\n",
    "        # Initialization done here\n",
    "        self.n_estimators = n_estimators\n",
    "        self.max_depth = max_depth\n",
    "        self.max_features = max_features\n",
    "        self.bootstraps_row_indices = []\n",
    "        self.feature_indices = []\n",
    "        self.out_of_bag = []\n",
    "        self.decision_trees = [sklearn.tree.DecisionTreeClassifier(max_depth=max_depth, criterion='entropy') for i in range(n_estimators)]\n",
    "        \n",
    "    def _bootstrapping(self, num_training, num_features, random_seed = None):\n",
    "        \"\"\"\n",
    "        TODO: \n",
    "        - Randomly select indices of size num_training with replacement corresponding to row locations of \n",
    "          selected samples in the original dataset.\n",
    "        - Randomly select indices without replacement corresponding the column locations of selected features in the original feature\n",
    "           list (num_features denotes the total number of features in the training set, max_features denotes the percentage \n",
    "           of features that are used to fit each decision tree).\n",
    "        \n",
    "        Reference: https://en.wikipedia.org/wiki/Bootstrapping_(statistics)\n",
    "        \n",
    "        Args: \n",
    "        - num_training: an integer N representing the total number of training instances.\n",
    "        - num_features: an integer D representing the total number of features.\n",
    "            \n",
    "        Returns:\n",
    "        - row_idx: (N,) numpy array of row indices corresponding to the row locations of the selected samples in the original dataset.\n",
    "        - col_idx: 1-D array of column indices corresponding to the column locations of selected features in the original feature list. \n",
    "                    \n",
    "        Hint: Consider using np.random.choice.\n",
    "        \"\"\"\n",
    "        \n",
    "        # raise NotImplementedError\n",
    "        \n",
    "        np.random.seed(seed = random_seed)\n",
    "        row_idx = np.random.choice(num_training, num_training, replace = True)\n",
    "        col_idx = np.random.choice(num_features, int(self.max_features * num_features), replace = False)\n",
    "        \n",
    "        return row_idx, col_idx \n",
    "        \n",
    "    def bootstrapping(self, num_training, num_features):\n",
    "        \"\"\"\n",
    "        Args: \n",
    "        - num_training: an integer N representing the total number of training instances.\n",
    "        - num_features: an integer D representing the total number of features.\n",
    "        \n",
    "        Returns:\n",
    "        - None\n",
    "        \"\"\"\n",
    "        # helper function. You don't have to modify it\n",
    "        # Initializing the bootstap datasets for each tree\n",
    "        for i in range(self.n_estimators):\n",
    "            total = set(list(range(num_training)))\n",
    "            row_idx, col_idx = self._bootstrapping(num_training, num_features)\n",
    "            total = total - set(row_idx)\n",
    "            self.bootstraps_row_indices.append(row_idx)\n",
    "            self.feature_indices.append(col_idx)\n",
    "            self.out_of_bag.append(total)\n",
    "\n",
    "    def fit(self, X, y):\n",
    "        \"\"\"\n",
    "        TODO:\n",
    "        Train decision trees using the bootstrapped datasets.\n",
    "        Note that you need to use the row indices and column indices.\n",
    "        \n",
    "        Args:\n",
    "        -X: NxD numpy array, where N is number \n",
    "           of instances and D is the dimensionality of each \n",
    "           instance\n",
    "        -y: Nx1 numpy array, the predicted labels\n",
    "        \n",
    "        Returns:\n",
    "        - None\n",
    "        \"\"\"\n",
    "        # raise NotImplementedError\n",
    "        # iterate over num estimators\n",
    "        # recall the fit function using subset of x and y on each tree \n",
    "        # use bootstrapping func to get subsets \n",
    "        n, d = X.shape\n",
    "        self.bootstrapping(n, d)\n",
    "        for t in range(self.n_estimators):\n",
    "            tree = self.decision_trees[t]\n",
    "            row = self.bootstraps_row_indices[t]\n",
    "            col = self.feature_indices[t]\n",
    "            row = row[:, None]\n",
    "            col = col[None, :]\n",
    "            sub_x = X[row, col]\n",
    "            sub_y = y[row]\n",
    "            tree.fit(sub_x, sub_y)\n",
    "        \n",
    "        \n",
    "    \n",
    "    def OOB_score(self, X, y):\n",
    "        # helper function. You don't have to modify it\n",
    "        # This function computes the accuracy of the random forest model predicting y given x.\n",
    "        accuracy = []\n",
    "        for i in range(len(X)):\n",
    "            predictions = []\n",
    "            for t in range(self.n_estimators):\n",
    "                if i in self.out_of_bag[t]:\n",
    "                    predictions.append(self.decision_trees[t].predict(np.reshape(X[i][self.feature_indices[t]], (1,-1)))[0])\n",
    "            if len(predictions) > 0:\n",
    "                accuracy.append(np.sum(predictions == y[i]) / float(len(predictions)))\n",
    "        return np.mean(accuracy)"
   ]
  },
  {
   "cell_type": "markdown",
   "metadata": {
    "id": "v8E74hGIm86t"
   },
   "source": [
    "### 3.2 Hyperparameter Tuning with a Random Forest (5pts) <span style=\"color:blue\">**[P]**</span>\n",
    "\n",
    "In machine learning, hyperparameters are parameters that are set before the learning process begins. The max_depth, num_estimators, or max_features variables from 3.1 are examples of different hyperparameters for a random forest model. In this section, you will tune your random forest model on an e-commerce dataset to achieve a high accuracy on a classifying revenue sessions (whether a customer will purchase a product) from user behavior.\n",
    "\n",
    "Let's first review the dataset in a bit more detail.\n",
    "\n",
    "#### Dataset Objective\n",
    "\n",
    "Imagine that we are the founders of a new e-commerce company that uses machine learning to optimize the user experience. We are tasked with the responsibility of coming up with a method for determining the likelihood of a shopping session ending in a purchase being made. We will then use this information to adjust pricing and services to encourage more purchasing.\n",
    "\n",
    "After much deliberation amongst the team, you come to a conclusion that we can use past online shopping data to predict the future occurence of revenue sessions. \n",
    "\n",
    "We will use our random forest algorithm from Q3.1 to predict if a shopping session ends in a purchase.\n",
    "\n",
    "You can find more information on the dataset [here](https://archive.ics.uci.edu/ml/datasets/Online+Shoppers+Purchasing+Intention+Dataset#)."
   ]
  },
  {
   "cell_type": "markdown",
   "metadata": {
    "id": "dYwbegdZm86t"
   },
   "source": [
    "#### Loading the dataset\n",
    "\n",
    "\n",
    "The dataset that the company has collected has the following features:\n",
    "\n",
    "1. Administrative : continuous variable\n",
    "2. Administrative_Duration\t: continuous variable\n",
    "3. Informational : continuous variable\n",
    "4. Informational_Duration : continuous variable\n",
    "5. ProductRelated : continuous variable\n",
    "6. ProductRelated_Duration : continuous variable\n",
    "7. BounceRates : continuous variable\n",
    "8. ExitRates : continuous variable\n",
    "9. PageValues : continuous variable\n",
    "10. SpecialDay : continuous variable\n",
    "11. Month\t: categorical variable\n",
    "12. OperatingSystems\t: continuous variable\n",
    "13. Browser : continuous variable\n",
    "14. Region : continuous variable\n",
    "14. TrafficType : continuous variable\n",
    "14. VisitorType : categorical variable\n",
    "14. Weekend : continuous variable\n",
    "14. Revenue : target variable -------------> **Your random forest model will try to predict this variable. A \"True\" value in this column means a shopper purchased an item given their user behavior described by features 1-17, while a \"False\" label indicates that a shopper did not purchase an item.**"
   ]
  },
  {
   "cell_type": "code",
   "execution_count": 15,
   "metadata": {
    "id": "01NrkRJ3SbRS"
   },
   "outputs": [],
   "source": [
    "# Logic for loading in datasets. DO NOT MODIFY anything in this block.\n",
    "from sklearn import preprocessing\n",
    "preprocessor = preprocessing.LabelEncoder()\n",
    "\n",
    "data_train = pd.read_csv(\"datasets/hw4_fall2020_data_train.csv\")\n",
    "data_test = pd.read_csv(\"datasets/hw4_fall2020_data_test.csv\")\n",
    "\n",
    "X_train = data_train.drop(columns = 'Revenue')\n",
    "y_train = data_train['Revenue']\n",
    "X_test = np.array(data_test.drop(columns = 'Revenue'))\n",
    "y_test = np.array(data_test['Revenue'])\n",
    "X_train, y_train, X_test, y_test = np.array(X_train), np.array(y_train), np.array(X_test), np.array(y_test)\n",
    "         \n",
    "#The following lines of code converts columns holding categorical or boolean variables into integers.\n",
    "X_train[:,10] = preprocessor.fit_transform(X_train[:,10])\n",
    "X_test[:,10] = preprocessor.fit_transform(X_test[:,10])\n",
    "X_train[:,-2] = preprocessor.fit_transform(X_train[:,-2])\n",
    "X_test[:,-2] = preprocessor.fit_transform(X_test[:,-2])\n"
   ]
  },
  {
   "cell_type": "markdown",
   "metadata": {
    "id": "BlxXUpNE2yPA"
   },
   "source": [
    "In the following codeblock, train your random forest model with different values for max_depth, n_estimators, or max_features and evaluate each model on the held-out test set. Try to choose a combination of hyperparameters that maximizes your prediction accuracy on the test set (aim for 92%+). **Once you are satisfied with your chosen parameters, change the default values for max_depth, n_estimators, and max_features in the __init__ function of your RandomForest class in random_forest.py to your chosen values, and then submit this file to Gradescope. You must achieve at least a 92% accuracy against a hidden test set (this will NOT the same as the test set provided here) in Gradescope to receive full credit for this section.**"
   ]
  },
  {
   "cell_type": "code",
   "execution_count": 23,
   "metadata": {
    "colab": {
     "base_uri": "https://localhost:8080/",
     "height": 125
    },
    "id": "6n8GGVU7tYGh",
    "outputId": "4a83b962-d917-4a53-9dc8-2681735d9396"
   },
   "outputs": [
    {
     "name": "stdout",
     "output_type": "stream",
     "text": [
      "accuracy: 0.9237\n"
     ]
    }
   ],
   "source": [
    "\"\"\"\n",
    "TODO: \n",
    "n_estimators defines how many decision trees are fitted for the random forest.\n",
    "max_depth defines a stop condition when the tree reaches to a certain depth.\n",
    "max_features controls the percentage of features that are used to fit each decision tree.\n",
    "\n",
    "Tune these three parameters to achieve a better accuracy. While you can use the provided test set to \n",
    "evaluate your implementation, you will need to obtain 92% on a hidden test set to receive full credit \n",
    "for this section.\n",
    "\"\"\"\n",
    "import sklearn.ensemble\n",
    "n_estimators = 6 #Hint: Consider values between 5-12.\n",
    "max_depth = 10 # Hint: Consider values betweeen 3-12\n",
    "max_features = 0.8 # Hint: Consider values betweeen 0.7-1.0.\n",
    "\n",
    "random_forest = RandomForest(n_estimators, max_depth, max_features)\n",
    "\n",
    "random_forest.fit(X_train, y_train)\n",
    "    \n",
    "accuracy=random_forest.OOB_score(X_test, y_test)\n",
    "    \n",
    "print(\"accuracy: %.4f\" % accuracy)"
   ]
  },
  {
   "cell_type": "markdown",
   "metadata": {
    "id": "SQ3Urx3Em86y"
   },
   "source": [
    "### 3.3 Plotting Feature Importance (5pts) <span style=\"color:green\">**[W]**</span>\n",
    "\n",
    "While building tree-based models, it's common to quantify how well splitting on a particular feature in a decision tree helps with predicting the target label in a dataset. Machine learning practicioners typically use \"Gini importance\", or the (normalized) total reduction in entropy brought by that feature to evaluate how important that feature is for predicting the target variable. \n",
    "\n",
    "Gini importance is typically calculated as the reduction in entropy from reaching a split in a decision tree weighted by the probability of reaching that split in the decision tree. Sklearn internally computes the probability for reaching a split by finding the total number of samples that reaches it during the training phase divided by the total number of samples in the dataset. This weighted value is our feature importance.\n",
    "\n",
    "Let's think about what this metric means with an example. A high probabiity of reaching a split on \"TrafficType\" in a decision tree trained on our e-commerce dataset (many samples will reach this split for a decision) and a large reduction in entropy from splitting on \"TrafficType\" will result in a high feature importance value for \"TrafficType\". This could mean \"TrafficType\" is a very important feature for predicting a customer's revenue session. On the other hand, a low probability of reaching a split on \"Month\" in a decision tree (few samples will reach this split for a decision) and a low reduction in entropy from splitting on \"Month\" will result in a low feature importance value. This could mean \"Month\" is not a very informative feature for predicting the revenue session in our decision tree. **Thus, the higher the feature importance value, the more important the feature is to predicting the target label.**\n",
    "\n",
    "Fortunately for us, fitting a sklearn.DecisionTreeClassifier to a dataset auomatically computes the Gini importance for every feature in the decision tree and stores these values in a **feature_importances_** variable. [Review the docs for more details on how to access this variable](https://scikit-learn.org/stable/modules/generated/sklearn.tree.DecisionTreeClassifier.html#sklearn.tree.DecisionTreeClassifier.feature_importances_)\n",
    "\n",
    "In the function below, display a bar plot that shows the feature importance values for at least one decision tree in your tuned random forest from Q3.2, and briefly comment on whether any features have noticeably higher / or lower importance weights than others. [Note that there isn't a \"correct\" answer here. We simply want you to investigate how different features in your random forest contribute to predicting the target variable].\n"
   ]
  },
  {
   "cell_type": "code",
   "execution_count": 27,
   "metadata": {
    "colab": {
     "base_uri": "https://localhost:8080/",
     "height": 410
    },
    "id": "irV3hL6mm86z",
    "outputId": "30612200-e1ff-4c2a-c367-bf643244b0cb"
   },
   "outputs": [
    {
     "data": {
      "image/png": "[encoded data removed]",
      "text/plain": [
       "<Figure size 432x288 with 1 Axes>"
      ]
     },
     "metadata": {
      "needs_background": "light"
     },
     "output_type": "display_data"
    }
   ],
   "source": [
    "def plot_feature_importance(random_forest):\n",
    "    \"\"\"\n",
    "    TODO:\n",
    "    -Display a bar plot showing the feature importance of every feature in \n",
    "     at least one decision tree from the tuned random_forest from Q3.2.\n",
    "     \n",
    "    Args:\n",
    "        random_forest: This is your implemented and tuned random forest from Q3.2. \n",
    "    Returns:\n",
    "        None. Calling this function should simply display the aforementioned feature importance bar chart\n",
    "    \"\"\"\n",
    "    tree = random_forest.decision_trees[0]\n",
    "    fi = -tree.feature_importances_\n",
    "    sort_fi = np.argsort(fi)\n",
    "    fi = fi[sort_fi]\n",
    "    fi = -fi\n",
    "    \n",
    "    cols = data_train.columns[:len(data_train.columns)-1]\n",
    "    sort_cols = cols[sort_fi]\n",
    "    \n",
    "    chart = plt.figure()\n",
    "    axes = chart.add_axes([0, 0, 1, 1])\n",
    "    axes.bar(sort_cols, fi)\n",
    "    plt.xticks(rotation = 'vertical')\n",
    "    plt.show()\n",
    "    \n",
    "\n",
    "plot_feature_importance(random_forest)\n",
    "    "
   ]
  },
  {
   "cell_type": "markdown",
   "metadata": {
    "id": "s1udwVq0PVFz"
   },
   "source": [
    "## 4: SVM (30 Pts) <span style=\"color:green\">**[W]**</span>\n"
   ]
  },
  {
   "cell_type": "markdown",
   "metadata": {
    "id": "FG6jrvc_m861"
   },
   "source": [
    "### 4.1 Fitting an SVM classifier by hand (20 Pts) <span style=\"color:green\">**[W]**</span>\n",
    "\n",
    "Consider a dataset with 2 points in 1-dimensional space: $(x_1 = -3, y_1 = −1)$ and $(x_2 = 2, y_2 = 1)$. Here $x$ are the point coordinates and $y$ are the classes.\n",
    "\n",
    "Consider mapping each point to 3-dimensional space using the feature vector $\\phi(x) = [1,2x, x^2]$. (This is equivalent to using a second order polynomial kernel.) The max margin classifier has the form\n",
    "\n",
    "$$min ||\\mathbf{\\theta}||^2 s.t.$$\n",
    "\n",
    "$$y_1(\\phi(x_1)\\mathbf{\\theta} + b) ≥ 1 $$\n",
    "\n",
    "$$y_2(\\phi(x_2)\\mathbf{\\theta}+ b) ≥ 1 $$\n",
    "\n",
    "**Hint:** $\\phi(x_1)$ and $\\phi(x_2)$ are the suppport vectors. We have already given you the solution for the suppport vectors and you need to calculate back the parameters. Margin is equal to $\\frac{1}{||\\mathbf{\\theta}||}$ and full margin is equal to $\\frac{2}{||\\mathbf{\\theta}||}$.\n",
    "\n",
    "(1) Find a vector parallel to the optimal vector $\\mathbf{\\theta}$. (4pts)\n",
    "\n",
    "$\\phi(x_1) = [1, 2(-3), (-3)^2] = [1, -6, 9]$\n",
    "\n",
    "$\\phi(x_2) = [1, 2(2), (2)^2] = [1, 4, 4]$ \n",
    "\n",
    "$\\phi(x_2) - \\phi(x_1) = [0, 10, -5]$\n",
    "\n",
    "$[0, 10, -5]$ is a vector parallel to theta because the difference of two vectors is perpendicular to the decision line. \n",
    "\n",
    "(2) Calculate the value of the margin achieved by this $\\mathbf{\\theta}$? (4pts)\n",
    "\n",
    "$\\frac{1}{||\\theta||} = \\frac{0^2 + (-10)^2 + 5^2}{2} = \\frac{\\sqrt{125}}{5} = \\frac{5\\sqrt{5}}{2}$\n",
    "\n",
    "(3) Solve for $\\mathbf{\\theta}$, given that the margin is equal to $1/||\\mathbf{\\theta}||$. (4pts)\n",
    "\n",
    "$\\frac{1}{||\\theta||} = \\frac{5\\sqrt{5}}{2}$\n",
    "\n",
    "$||\\theta|| = \\frac{2}{5\\sqrt{5}}$\n",
    "\n",
    "unit vector $ = [0, \\frac{2}{\\sqrt{5}}, -\\frac{1}{\\sqrt{5}}]$\n",
    "\n",
    "unit vector $\\cdot ||\\theta|| = [0, \\frac{4}{25}, -\\frac{2}{25}]$\n",
    "\n",
    "$\\theta = [0, \\frac{4}{25}, -\\frac{2}{25}]$\n",
    "\n",
    "(4) Solve for $b$ using your value for $\\mathbf{\\theta}$. (4pts)\n",
    "\n",
    "$\\phi(x_1) \\cdot \\theta = 0 - \\frac{24}{25} - \\frac{18}{25} = -\\frac{42}{25}$\n",
    "\n",
    "$(-1)(-\\frac{42}{25} + b) \\geq 1$\n",
    "\n",
    "$\\frac{42}{25} - b \\geq 1$\n",
    "\n",
    "$b \\leq \\frac{17}{25}$\n",
    "\n",
    "$\\phi(x_2) \\cdot \\theta = 0 + \\frac{16}{25} - \\frac{8}{25} = \\frac{8}{25}$\n",
    "\n",
    "$(1)(\\frac{8}{25} + b) \\geq 1$\n",
    "\n",
    "$b \\geq \\frac{17}{25}$\n",
    "\n",
    "$b = \\frac{17}{25}$\n",
    "\n",
    "(5) Write down the form of the discriminant function $f(x) = \\phi(x)\\mathbf{\\theta}+b$ as an explicit function of $x$.\n",
    "\n",
    "$[1, 2x, x^2] \\cdot [0, \\frac{4}{25}, -\\frac{2}{25}] + \\frac{17}{25}$\n",
    "\n",
    "$0 + \\frac{8}{25} - \\frac{2}{25} + \\frac{17}{25}$\n",
    "\n",
    "$-\\frac{2}{25}x^2 + \\frac{8}{25}x + \\frac{17}{25}$"
   ]
  },
  {
   "cell_type": "markdown",
   "metadata": {
    "id": "NacpSq-Tm862"
   },
   "source": [
    "### 4.2 Feature Mapping (10 Pts) <span style=\"color:green\">**[W]**</span>\n",
    "\n",
    "Let's look at a dataset where the datapoint can't be classified with a good accuracy using a linear classifier. Run the below cell to generate the dataset.\n",
    "\n",
    "We will also see what happens when we try to fit a linear classifier to the dataset."
   ]
  },
  {
   "cell_type": "code",
   "execution_count": 3,
   "metadata": {
    "colab": {
     "base_uri": "https://localhost:8080/",
     "height": 320
    },
    "id": "LmyYQFamm862",
    "outputId": "2ab03801-ca5f-4f98-ffdf-a1ba1aa38f39"
   },
   "outputs": [
    {
     "data": {
      "image/png": "[encoded data removed]",
      "text/plain": [
       "<Figure size 360x360 with 1 Axes>"
      ]
     },
     "metadata": {
      "needs_background": "light"
     },
     "output_type": "display_data"
    }
   ],
   "source": [
    "# DO NOT CHANGE\n",
    "# Generate dataset\n",
    "\n",
    "random_state = 1\n",
    "\n",
    "X, y = make_moons(n_samples=1000, noise=.05)\n",
    "\n",
    "y = np.where(y == 0, -1, y)\n",
    "\n",
    "X_train, X_test, y_train, y_test = train_test_split(X, y, \n",
    "                                                    test_size=0.20, \n",
    "                                                    random_state=random_state)\n",
    "\n",
    "f, ax = plt.subplots(nrows=1, ncols=1,figsize=(5,5))\n",
    "plt.scatter(X[:, 0], X[:, 1], c = y, marker = '.') \n",
    "plt.show() "
   ]
  },
  {
   "cell_type": "code",
   "execution_count": 4,
   "metadata": {
    "id": "eaVoa1J-m865"
   },
   "outputs": [],
   "source": [
    "def visualize_decision_boundary(X, y, feature_new=None, h=0.02):\n",
    "    '''\n",
    "    You don't have to modify this function\n",
    "    \n",
    "    Function to vizualize decision boundary\n",
    "    \n",
    "    feature_new is a function to get X with additional features\n",
    "    '''\n",
    "    x1_min, x1_max = X[:, 0].min() - 1, X[:, 0].max() + 1\n",
    "    x2_min, x2_max = X[:, 1].min() - 1, X[:, 1].max() + 1\n",
    "    xx_1, xx_2 = np.meshgrid(np.arange(x1_min, x1_max, h),\n",
    "                         np.arange(x2_min, x2_max, h))\n",
    "\n",
    "    if X.shape[1] == 2:\n",
    "        Z = svm_cls.predict(np.c_[xx_1.ravel(), xx_2.ravel()])\n",
    "    else:\n",
    "        X_conc = np.c_[xx_1.ravel(), xx_2.ravel()]\n",
    "        X_new = feature_new(X_conc)\n",
    "        Z = svm_cls.predict(X_new)\n",
    "\n",
    "    Z = Z.reshape(xx_1.shape)\n",
    "    \n",
    "    f, ax = plt.subplots(nrows=1, ncols=1,figsize=(5,5))\n",
    "    plt.contourf(xx_1, xx_2, Z, cmap=plt.cm.coolwarm, alpha=0.8)\n",
    "    plt.scatter(X[:, 0], X[:, 1], c=y, cmap=plt.cm.coolwarm)\n",
    "    plt.xlabel('X_1')\n",
    "    plt.ylabel('X_2')\n",
    "    plt.xlim(xx_1.min(), xx_1.max())\n",
    "    plt.ylim(xx_2.min(), xx_2.max())\n",
    "    plt.xticks(())\n",
    "    plt.yticks(())\n",
    "\n",
    "    plt.show()"
   ]
  },
  {
   "cell_type": "code",
   "execution_count": 5,
   "metadata": {
    "colab": {
     "base_uri": "https://localhost:8080/",
     "height": 336
    },
    "id": "ZJfVwgE2m867",
    "outputId": "7f5cf1c7-bc5e-49d9-e8a4-1a38145d8b11"
   },
   "outputs": [
    {
     "name": "stdout",
     "output_type": "stream",
     "text": [
      "Accuracy on test dataset: 0.9\n"
     ]
    },
    {
     "data": {
      "image/png": "[encoded data removed]",
      "text/plain": [
       "<Figure size 360x360 with 1 Axes>"
      ]
     },
     "metadata": {},
     "output_type": "display_data"
    }
   ],
   "source": [
    "# DO NOT CHANGE\n",
    "# Try to fit a linear classifier to the dataset\n",
    "\n",
    "svm_cls = svm.LinearSVC()\n",
    "svm_cls.fit(X_train, y_train)\n",
    "y_test_predicted = svm_cls.predict(X_test)\n",
    "\n",
    "print(\"Accuracy on test dataset: {}\".format(accuracy_score(y_test, \n",
    "                                                           y_test_predicted)))\n",
    "\n",
    "visualize_decision_boundary(X_train, y_train)"
   ]
  },
  {
   "cell_type": "markdown",
   "metadata": {
    "id": "FuShu_ECm869"
   },
   "source": [
    "We can see that we need a non-linear boundary to be able to successfully classify data in this dataset. By mapping the current feature x to a higher space with more features, linear SVM could be performed on the features in the higher space to learn a non-linear decision boundary. In the function below add additional features which can help classify in the above dataset. After creating the additional features use code in the further cells to see how well the features perform on the test set.  \n",
    "(**Hint:** Think of the shape of the decision boundary that would best separate the above points. What additional features could help map the linear boundary to the non-linear one? Look at [this](https://xavierbourretsicotte.github.io/Kernel_feature_map.html) for a detailed analysis of doing the same for points separable with a circular boundary)"
   ]
  },
  {
   "cell_type": "code",
   "execution_count": 99,
   "metadata": {
    "id": "-6VPMhbjm869"
   },
   "outputs": [],
   "source": [
    "def create_nl_feature(X):\n",
    "    '''\n",
    "    TODO - Create additional features and add it to the dataset\n",
    "    \n",
    "    returns:\n",
    "        X_new - (N, d + num_new_features) array with \n",
    "                additional features added to X such that it\n",
    "                can classify the points in the dataset.\n",
    "    '''\n",
    "    #  Delete this line when you implement the function\n",
    "    # raise NotImplementedError\n",
    "    new_feat = np.power(X[:, 0], 4)\n",
    "    new_feat = np.reshape(new_feat, (X.shape[0], 1))\n",
    "    X_new = np.hstack((X, new_feat))\n",
    "    \n",
    "    return X_new"
   ]
  },
  {
   "cell_type": "code",
   "execution_count": 100,
   "metadata": {
    "id": "SP0ILDgFm86_"
   },
   "outputs": [],
   "source": [
    "# DO NOT CHANGE\n",
    "# Create new features\n",
    "\n",
    "X_new = create_nl_feature(X)\n",
    "X_train, X_test, y_train, y_test = train_test_split(X_new, y, \n",
    "                                                    test_size=0.20, \n",
    "                                                    random_state=random_state)"
   ]
  },
  {
   "cell_type": "code",
   "execution_count": 101,
   "metadata": {
    "colab": {
     "base_uri": "https://localhost:8080/",
     "height": 336
    },
    "id": "VaUahNX9m87B",
    "outputId": "c4624aea-2dd0-41ad-e844-1ecfdb1e8de9"
   },
   "outputs": [
    {
     "name": "stdout",
     "output_type": "stream",
     "text": [
      "Accuracy on test dataset: 0.9\n"
     ]
    },
    {
     "name": "stderr",
     "output_type": "stream",
     "text": [
      "/opt/anaconda3/lib/python3.8/site-packages/sklearn/svm/_base.py:976: ConvergenceWarning: Liblinear failed to converge, increase the number of iterations.\n",
      "  warnings.warn(\"Liblinear failed to converge, increase \"\n"
     ]
    },
    {
     "data": {
      "image/png": "[encoded data removed]",
      "text/plain": [
       "<Figure size 360x360 with 1 Axes>"
      ]
     },
     "metadata": {},
     "output_type": "display_data"
    }
   ],
   "source": [
    "# DO NOT CHANGE\n",
    "# Fit to the new features and vizualize the decision boundary\n",
    "# You should get more than 90% accuracy on test set\n",
    "\n",
    "svm_cls = svm.LinearSVC()\n",
    "svm_cls.fit(X_train, y_train)\n",
    "y_test_predicted = svm_cls.predict(X_test)\n",
    "\n",
    "print(\"Accuracy on test dataset: {}\".format(accuracy_score(y_test, y_test_predicted)))\n",
    "\n",
    "visualize_decision_boundary(X_train, y_train, create_nl_feature)"
   ]
  },
  {
   "cell_type": "code",
   "execution_count": null,
   "metadata": {
    "id": "DsGzl0qdnrTD"
   },
   "outputs": [],
   "source": []
  }
 ],
 "metadata": {
  "accelerator": "TPU",
  "colab": {
   "collapsed_sections": [],
   "name": "HW4_FALL2020_solutions.ipynb",
   "provenance": [],
   "toc_visible": true
  },
  "kernelspec": {
   "display_name": "Python 3",
   "language": "python",
   "name": "python3"
  },
  "language_info": {
   "codemirror_mode": {
    "name": "ipython",
    "version": 3
   },
   "file_extension": ".py",
   "mimetype": "text/x-python",
   "name": "python",
   "nbconvert_exporter": "python",
   "pygments_lexer": "ipython3",
   "version": "3.8.3"
  },
  "latex_envs": {
   "LaTeX_envs_menu_present": true,
   "autocomplete": true,
   "bibliofile": "biblio.bib",
   "cite_by": "apalike",
   "current_citInitial": 1,
   "eqLabelWithNumbers": true,
   "eqNumInitial": 1,
   "hotkeys": {
    "equation": "Ctrl-E",
    "itemize": "Ctrl-I"
   },
   "labels_anchors": false,
   "latex_user_defs": false,
   "report_style_numbering": false,
   "user_envs_cfg": false
  }
 },
 "nbformat": 4,
 "nbformat_minor": 1
}
